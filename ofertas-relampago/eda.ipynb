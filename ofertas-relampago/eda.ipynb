{
 "cells": [
  {
   "cell_type": "code",
   "execution_count": 1,
   "metadata": {},
   "outputs": [],
   "source": [
    "import pandas as pd\n",
    "import numpy as np\n",
    "import seaborn as sns\n",
    "import matplotlib.pyplot as plt"
   ]
  },
  {
   "cell_type": "code",
   "execution_count": 2,
   "metadata": {},
   "outputs": [],
   "source": [
    "df = pd.read_csv('../data/Desafio Ds 2025 - Gen AI/ofertas_relampago.csv')"
   ]
  },
  {
   "cell_type": "code",
   "execution_count": 3,
   "metadata": {},
   "outputs": [
    {
     "data": {
      "text/html": [
       "<div>\n",
       "<style scoped>\n",
       "    .dataframe tbody tr th:only-of-type {\n",
       "        vertical-align: middle;\n",
       "    }\n",
       "\n",
       "    .dataframe tbody tr th {\n",
       "        vertical-align: top;\n",
       "    }\n",
       "\n",
       "    .dataframe thead th {\n",
       "        text-align: right;\n",
       "    }\n",
       "</style>\n",
       "<table border=\"1\" class=\"dataframe\">\n",
       "  <thead>\n",
       "    <tr style=\"text-align: right;\">\n",
       "      <th></th>\n",
       "      <th>OFFER_START_DATE</th>\n",
       "      <th>OFFER_START_DTTM</th>\n",
       "      <th>OFFER_FINISH_DTTM</th>\n",
       "      <th>OFFER_TYPE</th>\n",
       "      <th>INVOLVED_STOCK</th>\n",
       "      <th>REMAINING_STOCK_AFTER_END</th>\n",
       "      <th>SOLD_AMOUNT</th>\n",
       "      <th>SOLD_QUANTITY</th>\n",
       "      <th>ORIGIN</th>\n",
       "      <th>SHIPPING_PAYMENT_TYPE</th>\n",
       "      <th>DOM_DOMAIN_AGG1</th>\n",
       "      <th>VERTICAL</th>\n",
       "      <th>DOMAIN_ID</th>\n",
       "    </tr>\n",
       "  </thead>\n",
       "  <tbody>\n",
       "    <tr>\n",
       "      <th>0</th>\n",
       "      <td>2021-06-22</td>\n",
       "      <td>2021-06-22 16:00:00+00:00</td>\n",
       "      <td>2021-06-22 23:02:43+00:00</td>\n",
       "      <td>lightning_deal</td>\n",
       "      <td>4</td>\n",
       "      <td>-2</td>\n",
       "      <td>4.72</td>\n",
       "      <td>6.0</td>\n",
       "      <td>A</td>\n",
       "      <td>none</td>\n",
       "      <td>PETS FOOD</td>\n",
       "      <td>CPG</td>\n",
       "      <td>MLM-BIRD_FOODS</td>\n",
       "    </tr>\n",
       "    <tr>\n",
       "      <th>1</th>\n",
       "      <td>2021-06-22</td>\n",
       "      <td>2021-06-22 13:00:00+00:00</td>\n",
       "      <td>2021-06-22 19:00:02+00:00</td>\n",
       "      <td>lightning_deal</td>\n",
       "      <td>5</td>\n",
       "      <td>5</td>\n",
       "      <td>NaN</td>\n",
       "      <td>NaN</td>\n",
       "      <td>NaN</td>\n",
       "      <td>free_shipping</td>\n",
       "      <td>PET PRODUCTS</td>\n",
       "      <td>OTHERS</td>\n",
       "      <td>MLM-ANIMAL_AND_PET_PRODUCTS</td>\n",
       "    </tr>\n",
       "    <tr>\n",
       "      <th>2</th>\n",
       "      <td>2021-06-22</td>\n",
       "      <td>2021-06-22 07:00:00+00:00</td>\n",
       "      <td>2021-06-22 13:00:01+00:00</td>\n",
       "      <td>lightning_deal</td>\n",
       "      <td>15</td>\n",
       "      <td>12</td>\n",
       "      <td>10.73</td>\n",
       "      <td>3.0</td>\n",
       "      <td>NaN</td>\n",
       "      <td>none</td>\n",
       "      <td>COMPUTERS</td>\n",
       "      <td>CE</td>\n",
       "      <td>MLM-SPEAKERS</td>\n",
       "    </tr>\n",
       "    <tr>\n",
       "      <th>3</th>\n",
       "      <td>2021-06-22</td>\n",
       "      <td>2021-06-22 19:00:00+00:00</td>\n",
       "      <td>2021-06-23 01:36:12+00:00</td>\n",
       "      <td>lightning_deal</td>\n",
       "      <td>15</td>\n",
       "      <td>13</td>\n",
       "      <td>7.03</td>\n",
       "      <td>2.0</td>\n",
       "      <td>NaN</td>\n",
       "      <td>none</td>\n",
       "      <td>COMPUTERS</td>\n",
       "      <td>CE</td>\n",
       "      <td>MLM-HEADPHONES</td>\n",
       "    </tr>\n",
       "    <tr>\n",
       "      <th>4</th>\n",
       "      <td>2021-06-22</td>\n",
       "      <td>2021-06-22 13:00:00+00:00</td>\n",
       "      <td>2021-06-22 15:48:12+00:00</td>\n",
       "      <td>lightning_deal</td>\n",
       "      <td>15</td>\n",
       "      <td>0</td>\n",
       "      <td>39.65</td>\n",
       "      <td>15.0</td>\n",
       "      <td>NaN</td>\n",
       "      <td>none</td>\n",
       "      <td>COMPUTERS</td>\n",
       "      <td>CE</td>\n",
       "      <td>MLM-HEADPHONES</td>\n",
       "    </tr>\n",
       "    <tr>\n",
       "      <th>...</th>\n",
       "      <td>...</td>\n",
       "      <td>...</td>\n",
       "      <td>...</td>\n",
       "      <td>...</td>\n",
       "      <td>...</td>\n",
       "      <td>...</td>\n",
       "      <td>...</td>\n",
       "      <td>...</td>\n",
       "      <td>...</td>\n",
       "      <td>...</td>\n",
       "      <td>...</td>\n",
       "      <td>...</td>\n",
       "      <td>...</td>\n",
       "    </tr>\n",
       "    <tr>\n",
       "      <th>48741</th>\n",
       "      <td>2021-06-19</td>\n",
       "      <td>2021-06-19 13:00:00+00:00</td>\n",
       "      <td>2021-06-19 19:00:01+00:00</td>\n",
       "      <td>lightning_deal</td>\n",
       "      <td>15</td>\n",
       "      <td>9</td>\n",
       "      <td>16.28</td>\n",
       "      <td>6.0</td>\n",
       "      <td>NaN</td>\n",
       "      <td>none</td>\n",
       "      <td>HOME&amp;DECOR</td>\n",
       "      <td>HOME &amp; INDUSTRY</td>\n",
       "      <td>MLM-CHRISTMAS_LIGHTS</td>\n",
       "    </tr>\n",
       "    <tr>\n",
       "      <th>48742</th>\n",
       "      <td>2021-06-19</td>\n",
       "      <td>2021-06-19 13:00:00+00:00</td>\n",
       "      <td>2021-06-19 19:00:01+00:00</td>\n",
       "      <td>lightning_deal</td>\n",
       "      <td>5</td>\n",
       "      <td>5</td>\n",
       "      <td>NaN</td>\n",
       "      <td>NaN</td>\n",
       "      <td>NaN</td>\n",
       "      <td>free_shipping</td>\n",
       "      <td>HOME&amp;DECOR</td>\n",
       "      <td>HOME &amp; INDUSTRY</td>\n",
       "      <td>MLM-DECORATIVE_PAINTINGS</td>\n",
       "    </tr>\n",
       "    <tr>\n",
       "      <th>48743</th>\n",
       "      <td>2021-06-19</td>\n",
       "      <td>2021-06-19 07:00:00+00:00</td>\n",
       "      <td>2021-06-19 13:00:03+00:00</td>\n",
       "      <td>lightning_deal</td>\n",
       "      <td>5</td>\n",
       "      <td>3</td>\n",
       "      <td>16.62</td>\n",
       "      <td>2.0</td>\n",
       "      <td>NaN</td>\n",
       "      <td>free_shipping</td>\n",
       "      <td>HOME&amp;DECOR</td>\n",
       "      <td>HOME &amp; INDUSTRY</td>\n",
       "      <td>MLM-INDOOR_CURTAINS_AND_BLINDS</td>\n",
       "    </tr>\n",
       "    <tr>\n",
       "      <th>48744</th>\n",
       "      <td>2021-06-19</td>\n",
       "      <td>2021-06-19 13:00:00+00:00</td>\n",
       "      <td>2021-06-19 19:00:00+00:00</td>\n",
       "      <td>lightning_deal</td>\n",
       "      <td>5</td>\n",
       "      <td>1</td>\n",
       "      <td>38.79</td>\n",
       "      <td>4.0</td>\n",
       "      <td>NaN</td>\n",
       "      <td>free_shipping</td>\n",
       "      <td>HOME&amp;DECOR</td>\n",
       "      <td>HOME &amp; INDUSTRY</td>\n",
       "      <td>MLM-INDOOR_CURTAINS_AND_BLINDS</td>\n",
       "    </tr>\n",
       "    <tr>\n",
       "      <th>48745</th>\n",
       "      <td>2021-06-19</td>\n",
       "      <td>2021-06-19 13:00:00+00:00</td>\n",
       "      <td>2021-06-19 19:00:00+00:00</td>\n",
       "      <td>lightning_deal</td>\n",
       "      <td>15</td>\n",
       "      <td>15</td>\n",
       "      <td>NaN</td>\n",
       "      <td>NaN</td>\n",
       "      <td>NaN</td>\n",
       "      <td>free_shipping</td>\n",
       "      <td>HOME&amp;DECOR</td>\n",
       "      <td>HOME &amp; INDUSTRY</td>\n",
       "      <td>MLM-BED_SHEETS</td>\n",
       "    </tr>\n",
       "  </tbody>\n",
       "</table>\n",
       "<p>48746 rows × 13 columns</p>\n",
       "</div>"
      ],
      "text/plain": [
       "      OFFER_START_DATE           OFFER_START_DTTM          OFFER_FINISH_DTTM  \\\n",
       "0           2021-06-22  2021-06-22 16:00:00+00:00  2021-06-22 23:02:43+00:00   \n",
       "1           2021-06-22  2021-06-22 13:00:00+00:00  2021-06-22 19:00:02+00:00   \n",
       "2           2021-06-22  2021-06-22 07:00:00+00:00  2021-06-22 13:00:01+00:00   \n",
       "3           2021-06-22  2021-06-22 19:00:00+00:00  2021-06-23 01:36:12+00:00   \n",
       "4           2021-06-22  2021-06-22 13:00:00+00:00  2021-06-22 15:48:12+00:00   \n",
       "...                ...                        ...                        ...   \n",
       "48741       2021-06-19  2021-06-19 13:00:00+00:00  2021-06-19 19:00:01+00:00   \n",
       "48742       2021-06-19  2021-06-19 13:00:00+00:00  2021-06-19 19:00:01+00:00   \n",
       "48743       2021-06-19  2021-06-19 07:00:00+00:00  2021-06-19 13:00:03+00:00   \n",
       "48744       2021-06-19  2021-06-19 13:00:00+00:00  2021-06-19 19:00:00+00:00   \n",
       "48745       2021-06-19  2021-06-19 13:00:00+00:00  2021-06-19 19:00:00+00:00   \n",
       "\n",
       "           OFFER_TYPE  INVOLVED_STOCK  REMAINING_STOCK_AFTER_END  SOLD_AMOUNT  \\\n",
       "0      lightning_deal               4                         -2         4.72   \n",
       "1      lightning_deal               5                          5          NaN   \n",
       "2      lightning_deal              15                         12        10.73   \n",
       "3      lightning_deal              15                         13         7.03   \n",
       "4      lightning_deal              15                          0        39.65   \n",
       "...               ...             ...                        ...          ...   \n",
       "48741  lightning_deal              15                          9        16.28   \n",
       "48742  lightning_deal               5                          5          NaN   \n",
       "48743  lightning_deal               5                          3        16.62   \n",
       "48744  lightning_deal               5                          1        38.79   \n",
       "48745  lightning_deal              15                         15          NaN   \n",
       "\n",
       "       SOLD_QUANTITY ORIGIN SHIPPING_PAYMENT_TYPE DOM_DOMAIN_AGG1  \\\n",
       "0                6.0      A                  none       PETS FOOD   \n",
       "1                NaN    NaN         free_shipping    PET PRODUCTS   \n",
       "2                3.0    NaN                  none       COMPUTERS   \n",
       "3                2.0    NaN                  none       COMPUTERS   \n",
       "4               15.0    NaN                  none       COMPUTERS   \n",
       "...              ...    ...                   ...             ...   \n",
       "48741            6.0    NaN                  none      HOME&DECOR   \n",
       "48742            NaN    NaN         free_shipping      HOME&DECOR   \n",
       "48743            2.0    NaN         free_shipping      HOME&DECOR   \n",
       "48744            4.0    NaN         free_shipping      HOME&DECOR   \n",
       "48745            NaN    NaN         free_shipping      HOME&DECOR   \n",
       "\n",
       "              VERTICAL                       DOMAIN_ID  \n",
       "0                  CPG                  MLM-BIRD_FOODS  \n",
       "1               OTHERS     MLM-ANIMAL_AND_PET_PRODUCTS  \n",
       "2                   CE                    MLM-SPEAKERS  \n",
       "3                   CE                  MLM-HEADPHONES  \n",
       "4                   CE                  MLM-HEADPHONES  \n",
       "...                ...                             ...  \n",
       "48741  HOME & INDUSTRY            MLM-CHRISTMAS_LIGHTS  \n",
       "48742  HOME & INDUSTRY        MLM-DECORATIVE_PAINTINGS  \n",
       "48743  HOME & INDUSTRY  MLM-INDOOR_CURTAINS_AND_BLINDS  \n",
       "48744  HOME & INDUSTRY  MLM-INDOOR_CURTAINS_AND_BLINDS  \n",
       "48745  HOME & INDUSTRY                  MLM-BED_SHEETS  \n",
       "\n",
       "[48746 rows x 13 columns]"
      ]
     },
     "execution_count": 3,
     "metadata": {},
     "output_type": "execute_result"
    }
   ],
   "source": [
    "df"
   ]
  },
  {
   "cell_type": "markdown",
   "metadata": {},
   "source": [
    "# Checks y Ajustes"
   ]
  },
  {
   "cell_type": "markdown",
   "metadata": {},
   "source": [
    "TODO\n",
    "Ver que la data este ok (SOLD QUANTITY = INV - REM)\n",
    "Ver dominios mas vendidos\n",
    "Ver precio promedio de los vendidos\n",
    "Ver si menor tiempo vende mas\n",
    "Ver dia de semana con mayor venta\n",
    "Ver si shipping vende mejor"
   ]
  },
  {
   "cell_type": "code",
   "execution_count": 4,
   "metadata": {},
   "outputs": [],
   "source": [
    "df['OFFER_START_DTTM'] = pd.to_datetime(df['OFFER_START_DTTM'])\n",
    "df['OFFER_FINISH_DTTM'] = pd.to_datetime(df['OFFER_FINISH_DTTM'])"
   ]
  },
  {
   "cell_type": "code",
   "execution_count": 5,
   "metadata": {},
   "outputs": [],
   "source": [
    "df['SOLD_QUANTITY'] = np.where(df['SOLD_QUANTITY'].isna(), df['INVOLVED_STOCK'] - df['REMAINING_STOCK_AFTER_END'], df['SOLD_QUANTITY'])\n",
    "df['ASP'] = df['SOLD_AMOUNT'] / df['SOLD_QUANTITY']"
   ]
  },
  {
   "cell_type": "code",
   "execution_count": 6,
   "metadata": {},
   "outputs": [
    {
     "data": {
      "text/html": [
       "<div>\n",
       "<style scoped>\n",
       "    .dataframe tbody tr th:only-of-type {\n",
       "        vertical-align: middle;\n",
       "    }\n",
       "\n",
       "    .dataframe tbody tr th {\n",
       "        vertical-align: top;\n",
       "    }\n",
       "\n",
       "    .dataframe thead th {\n",
       "        text-align: right;\n",
       "    }\n",
       "</style>\n",
       "<table border=\"1\" class=\"dataframe\">\n",
       "  <thead>\n",
       "    <tr style=\"text-align: right;\">\n",
       "      <th></th>\n",
       "      <th>OFFER_START_DATE</th>\n",
       "      <th>OFFER_START_DTTM</th>\n",
       "      <th>OFFER_FINISH_DTTM</th>\n",
       "      <th>OFFER_TYPE</th>\n",
       "      <th>INVOLVED_STOCK</th>\n",
       "      <th>REMAINING_STOCK_AFTER_END</th>\n",
       "      <th>SOLD_AMOUNT</th>\n",
       "      <th>SOLD_QUANTITY</th>\n",
       "      <th>ORIGIN</th>\n",
       "      <th>SHIPPING_PAYMENT_TYPE</th>\n",
       "      <th>DOM_DOMAIN_AGG1</th>\n",
       "      <th>VERTICAL</th>\n",
       "      <th>DOMAIN_ID</th>\n",
       "      <th>ASP</th>\n",
       "    </tr>\n",
       "  </thead>\n",
       "  <tbody>\n",
       "    <tr>\n",
       "      <th>33</th>\n",
       "      <td>2021-06-22</td>\n",
       "      <td>2021-06-22 13:00:00+00:00</td>\n",
       "      <td>2021-06-22 19:00:00+00:00</td>\n",
       "      <td>lightning_deal</td>\n",
       "      <td>15</td>\n",
       "      <td>11</td>\n",
       "      <td>26.82</td>\n",
       "      <td>5.0</td>\n",
       "      <td>NaN</td>\n",
       "      <td>free_shipping</td>\n",
       "      <td>APPAREL</td>\n",
       "      <td>APP &amp; SPORTS</td>\n",
       "      <td>MLM-BLOUSES</td>\n",
       "      <td>5.364000</td>\n",
       "    </tr>\n",
       "    <tr>\n",
       "      <th>37</th>\n",
       "      <td>2021-06-22</td>\n",
       "      <td>2021-06-22 13:00:00+00:00</td>\n",
       "      <td>2021-06-22 21:00:00+00:00</td>\n",
       "      <td>lightning_deal</td>\n",
       "      <td>10</td>\n",
       "      <td>8</td>\n",
       "      <td>13.34</td>\n",
       "      <td>3.0</td>\n",
       "      <td>A</td>\n",
       "      <td>free_shipping</td>\n",
       "      <td>HOME&amp;DECOR</td>\n",
       "      <td>HOME &amp; INDUSTRY</td>\n",
       "      <td>MLM-MUGS</td>\n",
       "      <td>4.446667</td>\n",
       "    </tr>\n",
       "    <tr>\n",
       "      <th>93</th>\n",
       "      <td>2021-06-22</td>\n",
       "      <td>2021-06-22 19:00:00+00:00</td>\n",
       "      <td>2021-06-23 01:00:09+00:00</td>\n",
       "      <td>lightning_deal</td>\n",
       "      <td>10</td>\n",
       "      <td>9</td>\n",
       "      <td>13.58</td>\n",
       "      <td>2.0</td>\n",
       "      <td>NaN</td>\n",
       "      <td>free_shipping</td>\n",
       "      <td>PETS FOOD</td>\n",
       "      <td>CPG</td>\n",
       "      <td>MLM-CATS_AND_DOGS_FOODS</td>\n",
       "      <td>6.790000</td>\n",
       "    </tr>\n",
       "    <tr>\n",
       "      <th>99</th>\n",
       "      <td>2021-06-22</td>\n",
       "      <td>2021-06-22 16:00:00+00:00</td>\n",
       "      <td>2021-06-22 19:28:55+00:00</td>\n",
       "      <td>lightning_deal</td>\n",
       "      <td>7</td>\n",
       "      <td>-3</td>\n",
       "      <td>15.57</td>\n",
       "      <td>6.0</td>\n",
       "      <td>A</td>\n",
       "      <td>free_shipping</td>\n",
       "      <td>PETS FOOD</td>\n",
       "      <td>CPG</td>\n",
       "      <td>MLM-CATS_AND_DOGS_FOODS</td>\n",
       "      <td>2.595000</td>\n",
       "    </tr>\n",
       "    <tr>\n",
       "      <th>153</th>\n",
       "      <td>2021-06-22</td>\n",
       "      <td>2021-06-22 19:00:00+00:00</td>\n",
       "      <td>2021-06-23 01:00:03+00:00</td>\n",
       "      <td>lightning_deal</td>\n",
       "      <td>5</td>\n",
       "      <td>3</td>\n",
       "      <td>24.99</td>\n",
       "      <td>3.0</td>\n",
       "      <td>NaN</td>\n",
       "      <td>free_shipping</td>\n",
       "      <td>FOOTWEAR</td>\n",
       "      <td>APP &amp; SPORTS</td>\n",
       "      <td>MLM-SANDALS_AND_FLIP_FLOPS</td>\n",
       "      <td>8.330000</td>\n",
       "    </tr>\n",
       "    <tr>\n",
       "      <th>...</th>\n",
       "      <td>...</td>\n",
       "      <td>...</td>\n",
       "      <td>...</td>\n",
       "      <td>...</td>\n",
       "      <td>...</td>\n",
       "      <td>...</td>\n",
       "      <td>...</td>\n",
       "      <td>...</td>\n",
       "      <td>...</td>\n",
       "      <td>...</td>\n",
       "      <td>...</td>\n",
       "      <td>...</td>\n",
       "      <td>...</td>\n",
       "      <td>...</td>\n",
       "    </tr>\n",
       "    <tr>\n",
       "      <th>48489</th>\n",
       "      <td>2021-06-19</td>\n",
       "      <td>2021-06-19 10:00:00+00:00</td>\n",
       "      <td>2021-06-19 18:00:00+00:00</td>\n",
       "      <td>lightning_deal</td>\n",
       "      <td>30</td>\n",
       "      <td>26</td>\n",
       "      <td>90.40</td>\n",
       "      <td>1.0</td>\n",
       "      <td>A</td>\n",
       "      <td>free_shipping</td>\n",
       "      <td>HOME&amp;DECOR</td>\n",
       "      <td>HOME &amp; INDUSTRY</td>\n",
       "      <td>MLM-FRAME_POOLS</td>\n",
       "      <td>90.400000</td>\n",
       "    </tr>\n",
       "    <tr>\n",
       "      <th>48490</th>\n",
       "      <td>2021-06-19</td>\n",
       "      <td>2021-06-19 10:00:00+00:00</td>\n",
       "      <td>2021-06-19 18:00:00+00:00</td>\n",
       "      <td>lightning_deal</td>\n",
       "      <td>30</td>\n",
       "      <td>26</td>\n",
       "      <td>271.20</td>\n",
       "      <td>3.0</td>\n",
       "      <td>A</td>\n",
       "      <td>free_shipping</td>\n",
       "      <td>HOME&amp;DECOR</td>\n",
       "      <td>HOME &amp; INDUSTRY</td>\n",
       "      <td>MLM-FRAME_POOLS</td>\n",
       "      <td>90.400000</td>\n",
       "    </tr>\n",
       "    <tr>\n",
       "      <th>48570</th>\n",
       "      <td>2021-06-19</td>\n",
       "      <td>2021-06-19 19:00:00+00:00</td>\n",
       "      <td>2021-06-20 01:00:05+00:00</td>\n",
       "      <td>lightning_deal</td>\n",
       "      <td>5</td>\n",
       "      <td>5</td>\n",
       "      <td>5.21</td>\n",
       "      <td>4.0</td>\n",
       "      <td>NaN</td>\n",
       "      <td>none</td>\n",
       "      <td>SPORTS</td>\n",
       "      <td>APP &amp; SPORTS</td>\n",
       "      <td>MLM-KINESIOLOGY_TAPES</td>\n",
       "      <td>1.302500</td>\n",
       "    </tr>\n",
       "    <tr>\n",
       "      <th>48628</th>\n",
       "      <td>2021-06-19</td>\n",
       "      <td>2021-06-19 15:00:00+00:00</td>\n",
       "      <td>2021-06-19 23:00:00+00:00</td>\n",
       "      <td>lightning_deal</td>\n",
       "      <td>30</td>\n",
       "      <td>27</td>\n",
       "      <td>9.61</td>\n",
       "      <td>4.0</td>\n",
       "      <td>A</td>\n",
       "      <td>none</td>\n",
       "      <td>TOOLS AND CONSTRUCTION</td>\n",
       "      <td>HOME &amp; INDUSTRY</td>\n",
       "      <td>MLM-ANGLE_FINDERS</td>\n",
       "      <td>2.402500</td>\n",
       "    </tr>\n",
       "    <tr>\n",
       "      <th>48740</th>\n",
       "      <td>2021-06-19</td>\n",
       "      <td>2021-06-19 07:00:00+00:00</td>\n",
       "      <td>2021-06-19 13:00:02+00:00</td>\n",
       "      <td>lightning_deal</td>\n",
       "      <td>15</td>\n",
       "      <td>15</td>\n",
       "      <td>21.23</td>\n",
       "      <td>2.0</td>\n",
       "      <td>NaN</td>\n",
       "      <td>free_shipping</td>\n",
       "      <td>HOME&amp;DECOR</td>\n",
       "      <td>HOME &amp; INDUSTRY</td>\n",
       "      <td>MLM-CHRISTMAS_LIGHTS</td>\n",
       "      <td>10.615000</td>\n",
       "    </tr>\n",
       "  </tbody>\n",
       "</table>\n",
       "<p>2995 rows × 14 columns</p>\n",
       "</div>"
      ],
      "text/plain": [
       "      OFFER_START_DATE          OFFER_START_DTTM         OFFER_FINISH_DTTM  \\\n",
       "33          2021-06-22 2021-06-22 13:00:00+00:00 2021-06-22 19:00:00+00:00   \n",
       "37          2021-06-22 2021-06-22 13:00:00+00:00 2021-06-22 21:00:00+00:00   \n",
       "93          2021-06-22 2021-06-22 19:00:00+00:00 2021-06-23 01:00:09+00:00   \n",
       "99          2021-06-22 2021-06-22 16:00:00+00:00 2021-06-22 19:28:55+00:00   \n",
       "153         2021-06-22 2021-06-22 19:00:00+00:00 2021-06-23 01:00:03+00:00   \n",
       "...                ...                       ...                       ...   \n",
       "48489       2021-06-19 2021-06-19 10:00:00+00:00 2021-06-19 18:00:00+00:00   \n",
       "48490       2021-06-19 2021-06-19 10:00:00+00:00 2021-06-19 18:00:00+00:00   \n",
       "48570       2021-06-19 2021-06-19 19:00:00+00:00 2021-06-20 01:00:05+00:00   \n",
       "48628       2021-06-19 2021-06-19 15:00:00+00:00 2021-06-19 23:00:00+00:00   \n",
       "48740       2021-06-19 2021-06-19 07:00:00+00:00 2021-06-19 13:00:02+00:00   \n",
       "\n",
       "           OFFER_TYPE  INVOLVED_STOCK  REMAINING_STOCK_AFTER_END  SOLD_AMOUNT  \\\n",
       "33     lightning_deal              15                         11        26.82   \n",
       "37     lightning_deal              10                          8        13.34   \n",
       "93     lightning_deal              10                          9        13.58   \n",
       "99     lightning_deal               7                         -3        15.57   \n",
       "153    lightning_deal               5                          3        24.99   \n",
       "...               ...             ...                        ...          ...   \n",
       "48489  lightning_deal              30                         26        90.40   \n",
       "48490  lightning_deal              30                         26       271.20   \n",
       "48570  lightning_deal               5                          5         5.21   \n",
       "48628  lightning_deal              30                         27         9.61   \n",
       "48740  lightning_deal              15                         15        21.23   \n",
       "\n",
       "       SOLD_QUANTITY ORIGIN SHIPPING_PAYMENT_TYPE         DOM_DOMAIN_AGG1  \\\n",
       "33               5.0    NaN         free_shipping                 APPAREL   \n",
       "37               3.0      A         free_shipping              HOME&DECOR   \n",
       "93               2.0    NaN         free_shipping               PETS FOOD   \n",
       "99               6.0      A         free_shipping               PETS FOOD   \n",
       "153              3.0    NaN         free_shipping                FOOTWEAR   \n",
       "...              ...    ...                   ...                     ...   \n",
       "48489            1.0      A         free_shipping              HOME&DECOR   \n",
       "48490            3.0      A         free_shipping              HOME&DECOR   \n",
       "48570            4.0    NaN                  none                  SPORTS   \n",
       "48628            4.0      A                  none  TOOLS AND CONSTRUCTION   \n",
       "48740            2.0    NaN         free_shipping              HOME&DECOR   \n",
       "\n",
       "              VERTICAL                   DOMAIN_ID        ASP  \n",
       "33        APP & SPORTS                 MLM-BLOUSES   5.364000  \n",
       "37     HOME & INDUSTRY                    MLM-MUGS   4.446667  \n",
       "93                 CPG     MLM-CATS_AND_DOGS_FOODS   6.790000  \n",
       "99                 CPG     MLM-CATS_AND_DOGS_FOODS   2.595000  \n",
       "153       APP & SPORTS  MLM-SANDALS_AND_FLIP_FLOPS   8.330000  \n",
       "...                ...                         ...        ...  \n",
       "48489  HOME & INDUSTRY             MLM-FRAME_POOLS  90.400000  \n",
       "48490  HOME & INDUSTRY             MLM-FRAME_POOLS  90.400000  \n",
       "48570     APP & SPORTS       MLM-KINESIOLOGY_TAPES   1.302500  \n",
       "48628  HOME & INDUSTRY           MLM-ANGLE_FINDERS   2.402500  \n",
       "48740  HOME & INDUSTRY        MLM-CHRISTMAS_LIGHTS  10.615000  \n",
       "\n",
       "[2995 rows x 14 columns]"
      ]
     },
     "execution_count": 6,
     "metadata": {},
     "output_type": "execute_result"
    }
   ],
   "source": [
    "# Consultar si SOLD_QUANTITY contempla cancelados, sino cambiarlo por la resta\n",
    "df[df['SOLD_QUANTITY'] != df['INVOLVED_STOCK'] - df['REMAINING_STOCK_AFTER_END']]"
   ]
  },
  {
   "cell_type": "code",
   "execution_count": 7,
   "metadata": {},
   "outputs": [
    {
     "data": {
      "text/plain": [
       "ORIGIN\n",
       "A    11316\n",
       "Name: count, dtype: int64"
      ]
     },
     "execution_count": 7,
     "metadata": {},
     "output_type": "execute_result"
    }
   ],
   "source": [
    "df['ORIGIN'].value_counts()"
   ]
  },
  {
   "cell_type": "code",
   "execution_count": 8,
   "metadata": {},
   "outputs": [
    {
     "data": {
      "text/plain": [
       "SHIPPING_PAYMENT_TYPE\n",
       "free_shipping    26658\n",
       "none             22088\n",
       "Name: count, dtype: int64"
      ]
     },
     "execution_count": 8,
     "metadata": {},
     "output_type": "execute_result"
    }
   ],
   "source": [
    "df['SHIPPING_PAYMENT_TYPE'].value_counts()"
   ]
  },
  {
   "cell_type": "code",
   "execution_count": 9,
   "metadata": {},
   "outputs": [
    {
     "data": {
      "text/plain": [
       "OFFER_TYPE\n",
       "lightning_deal    48746\n",
       "Name: count, dtype: int64"
      ]
     },
     "execution_count": 9,
     "metadata": {},
     "output_type": "execute_result"
    }
   ],
   "source": [
    "df['OFFER_TYPE'].value_counts()"
   ]
  },
  {
   "cell_type": "code",
   "execution_count": 10,
   "metadata": {},
   "outputs": [],
   "source": [
    "df['OFFER_SPAN'] = df['OFFER_FINISH_DTTM'] - df['OFFER_START_DTTM']\n",
    "df['OFFER_SPAN_MINUTES'] = round(df['OFFER_SPAN'].dt.seconds / 60)\n",
    "df['SOLD_PERCENT'] = df['SOLD_QUANTITY'] / (df['INVOLVED_STOCK'] - np.where(df['REMAINING_STOCK_AFTER_END'] < 0, df['REMAINING_STOCK_AFTER_END'], 0))"
   ]
  },
  {
   "cell_type": "markdown",
   "metadata": {},
   "source": [
    "# Que vertical/domain es consistente o performa mejor"
   ]
  },
  {
   "cell_type": "code",
   "execution_count": 11,
   "metadata": {},
   "outputs": [],
   "source": [
    "dom_df = df.groupby(['DOM_DOMAIN_AGG1'])[['INVOLVED_STOCK', 'REMAINING_STOCK_AFTER_END', 'SOLD_AMOUNT', 'SOLD_QUANTITY', 'SOLD_PERCENT', 'OFFER_SPAN_MINUTES', 'ASP']].agg(['sum', 'max', 'mean', 'median', 'count'])\n",
    "dom_df.columns = ['_'.join(col) for col in dom_df.columns.to_flat_index()]\n",
    "vert_df = df.groupby(['VERTICAL'])[['INVOLVED_STOCK', 'REMAINING_STOCK_AFTER_END', 'SOLD_AMOUNT', 'SOLD_QUANTITY', 'SOLD_PERCENT', 'OFFER_SPAN_MINUTES']].agg(['sum', 'max', 'mean', 'median', 'count'])\n",
    "vert_df.columns = ['_'.join(col) for col in vert_df.columns.to_flat_index()]"
   ]
  },
  {
   "cell_type": "code",
   "execution_count": 12,
   "metadata": {},
   "outputs": [
    {
     "data": {
      "image/png": "[encoded data removed]",
      "text/plain": [
       "<Figure size 640x480 with 1 Axes>"
      ]
     },
     "metadata": {},
     "output_type": "display_data"
    }
   ],
   "source": [
    "ax = sns.barplot(dom_df[dom_df['SOLD_PERCENT_count'] > 0].sort_values(by='SOLD_PERCENT_mean', ascending=False).iloc[:10]['SOLD_PERCENT_mean'], orient='h')\n",
    "plt.show()"
   ]
  },
  {
   "cell_type": "code",
   "execution_count": 13,
   "metadata": {},
   "outputs": [
    {
     "data": {
      "image/png": "[encoded data removed]",
      "text/plain": [
       "<Figure size 640x480 with 1 Axes>"
      ]
     },
     "metadata": {},
     "output_type": "display_data"
    }
   ],
   "source": [
    "ax = sns.barplot(dom_df[dom_df['SOLD_PERCENT_count'] > 0].sort_values(by='SOLD_AMOUNT_sum', ascending=False).iloc[:10]['SOLD_AMOUNT_sum'], orient='h')\n",
    "plt.show()"
   ]
  },
  {
   "cell_type": "code",
   "execution_count": 14,
   "metadata": {},
   "outputs": [
    {
     "data": {
      "image/png": "[encoded data removed]",
      "text/plain": [
       "<Figure size 640x480 with 1 Axes>"
      ]
     },
     "metadata": {},
     "output_type": "display_data"
    }
   ],
   "source": [
    "ax = sns.barplot(vert_df[vert_df['SOLD_PERCENT_count'] > 0].sort_values(by='SOLD_PERCENT_mean', ascending=False).iloc[:10]['SOLD_PERCENT_mean'], orient='h')\n",
    "plt.show()"
   ]
  },
  {
   "cell_type": "code",
   "execution_count": 15,
   "metadata": {},
   "outputs": [
    {
     "data": {
      "image/png": "[encoded data removed]",
      "text/plain": [
       "<Figure size 640x480 with 1 Axes>"
      ]
     },
     "metadata": {},
     "output_type": "display_data"
    }
   ],
   "source": [
    "ax = sns.barplot(vert_df[vert_df['SOLD_PERCENT_count'] > 0].sort_values(by='SOLD_AMOUNT_sum', ascending=False).iloc[:10]['SOLD_AMOUNT_sum'], orient='h')\n",
    "plt.show()"
   ]
  },
  {
   "cell_type": "markdown",
   "metadata": {},
   "source": [
    "Los productos de belleza son aquellos que mas stock venden sobre el ofertado, a la vez de que son los que mas recaudan"
   ]
  },
  {
   "cell_type": "code",
   "execution_count": 16,
   "metadata": {},
   "outputs": [
    {
     "data": {
      "image/png": "[encoded data removed]",
      "text/plain": [
       "<Figure size 640x480 with 1 Axes>"
      ]
     },
     "metadata": {},
     "output_type": "display_data"
    }
   ],
   "source": [
    "ax = sns.barplot(dom_df[dom_df['SOLD_PERCENT_count'] > 10].sort_values(by='SOLD_PERCENT_mean', ascending=True).iloc[:10]['SOLD_PERCENT_mean'], orient='h')\n",
    "plt.show()"
   ]
  },
  {
   "cell_type": "code",
   "execution_count": 17,
   "metadata": {},
   "outputs": [
    {
     "data": {
      "image/png": "[encoded data removed]",
      "text/plain": [
       "<Figure size 640x480 with 1 Axes>"
      ]
     },
     "metadata": {},
     "output_type": "display_data"
    }
   ],
   "source": [
    "ax = sns.barplot(vert_df[vert_df['SOLD_PERCENT_count'] > 10].sort_values(by='SOLD_PERCENT_mean', ascending=True).iloc[:10]['SOLD_PERCENT_mean'], orient='h')\n",
    "plt.show()"
   ]
  },
  {
   "cell_type": "markdown",
   "metadata": {},
   "source": [
    "Los productos de bebe y juegos son los que menos stock venden del ofertado"
   ]
  },
  {
   "cell_type": "code",
   "execution_count": 18,
   "metadata": {},
   "outputs": [
    {
     "data": {
      "text/html": [
       "<div>\n",
       "<style scoped>\n",
       "    .dataframe tbody tr th:only-of-type {\n",
       "        vertical-align: middle;\n",
       "    }\n",
       "\n",
       "    .dataframe tbody tr th {\n",
       "        vertical-align: top;\n",
       "    }\n",
       "\n",
       "    .dataframe thead th {\n",
       "        text-align: right;\n",
       "    }\n",
       "</style>\n",
       "<table border=\"1\" class=\"dataframe\">\n",
       "  <thead>\n",
       "    <tr style=\"text-align: right;\">\n",
       "      <th></th>\n",
       "      <th>INVOLVED_STOCK_sum</th>\n",
       "      <th>REMAINING_STOCK_AFTER_END_sum</th>\n",
       "      <th>SOLD_QUANTITY_sum</th>\n",
       "    </tr>\n",
       "    <tr>\n",
       "      <th>DOM_DOMAIN_AGG1</th>\n",
       "      <th></th>\n",
       "      <th></th>\n",
       "      <th></th>\n",
       "    </tr>\n",
       "  </thead>\n",
       "  <tbody>\n",
       "    <tr>\n",
       "      <th>BABY</th>\n",
       "      <td>17843</td>\n",
       "      <td>17137</td>\n",
       "      <td>591.0</td>\n",
       "    </tr>\n",
       "    <tr>\n",
       "      <th>PHARMACEUTICS</th>\n",
       "      <td>701047</td>\n",
       "      <td>606054</td>\n",
       "      <td>147723.0</td>\n",
       "    </tr>\n",
       "  </tbody>\n",
       "</table>\n",
       "</div>"
      ],
      "text/plain": [
       "                 INVOLVED_STOCK_sum  REMAINING_STOCK_AFTER_END_sum  \\\n",
       "DOM_DOMAIN_AGG1                                                      \n",
       "BABY                          17843                          17137   \n",
       "PHARMACEUTICS                701047                         606054   \n",
       "\n",
       "                 SOLD_QUANTITY_sum  \n",
       "DOM_DOMAIN_AGG1                     \n",
       "BABY                         591.0  \n",
       "PHARMACEUTICS             147723.0  "
      ]
     },
     "execution_count": 18,
     "metadata": {},
     "output_type": "execute_result"
    }
   ],
   "source": [
    "dom_df[dom_df.index.isin(['BABY', 'PHARMACEUTICS'])][['INVOLVED_STOCK_sum', 'REMAINING_STOCK_AFTER_END_sum', 'SOLD_QUANTITY_sum']]"
   ]
  },
  {
   "cell_type": "markdown",
   "metadata": {},
   "source": [
    "Vemos de todas formas que el stock ofertado por PHARMACEUTICS es muy superior al de BABY, posiblemente, porque es mas variado y tiene un publico mucho menos especifico."
   ]
  },
  {
   "cell_type": "code",
   "execution_count": 19,
   "metadata": {},
   "outputs": [
    {
     "data": {
      "text/html": [
       "<div>\n",
       "<style scoped>\n",
       "    .dataframe tbody tr th:only-of-type {\n",
       "        vertical-align: middle;\n",
       "    }\n",
       "\n",
       "    .dataframe tbody tr th {\n",
       "        vertical-align: top;\n",
       "    }\n",
       "\n",
       "    .dataframe thead th {\n",
       "        text-align: right;\n",
       "    }\n",
       "</style>\n",
       "<table border=\"1\" class=\"dataframe\">\n",
       "  <thead>\n",
       "    <tr style=\"text-align: right;\">\n",
       "      <th></th>\n",
       "      <th>INVOLVED_STOCK_sum</th>\n",
       "      <th>REMAINING_STOCK_AFTER_END_sum</th>\n",
       "      <th>SOLD_QUANTITY_sum</th>\n",
       "      <th>ASP_mean</th>\n",
       "    </tr>\n",
       "    <tr>\n",
       "      <th>DOM_DOMAIN_AGG1</th>\n",
       "      <th></th>\n",
       "      <th></th>\n",
       "      <th></th>\n",
       "      <th></th>\n",
       "    </tr>\n",
       "  </thead>\n",
       "  <tbody>\n",
       "    <tr>\n",
       "      <th>PETS FOOD</th>\n",
       "      <td>4039</td>\n",
       "      <td>2474</td>\n",
       "      <td>1523.0</td>\n",
       "      <td>5.091416</td>\n",
       "    </tr>\n",
       "    <tr>\n",
       "      <th>SECURITY</th>\n",
       "      <td>8402</td>\n",
       "      <td>7251</td>\n",
       "      <td>1143.0</td>\n",
       "      <td>10.808264</td>\n",
       "    </tr>\n",
       "  </tbody>\n",
       "</table>\n",
       "</div>"
      ],
      "text/plain": [
       "                 INVOLVED_STOCK_sum  REMAINING_STOCK_AFTER_END_sum  \\\n",
       "DOM_DOMAIN_AGG1                                                      \n",
       "PETS FOOD                      4039                           2474   \n",
       "SECURITY                       8402                           7251   \n",
       "\n",
       "                 SOLD_QUANTITY_sum   ASP_mean  \n",
       "DOM_DOMAIN_AGG1                                \n",
       "PETS FOOD                   1523.0   5.091416  \n",
       "SECURITY                    1143.0  10.808264  "
      ]
     },
     "execution_count": 19,
     "metadata": {},
     "output_type": "execute_result"
    }
   ],
   "source": [
    "dom_df[dom_df.index.isin(['PETS FOOD', 'SECURITY'])][['INVOLVED_STOCK_sum', 'REMAINING_STOCK_AFTER_END_sum', 'SOLD_QUANTITY_sum', 'ASP_mean']]"
   ]
  },
  {
   "cell_type": "markdown",
   "metadata": {},
   "source": [
    "Aun asi, sectores de Nicho como PETS FOODS y SECURITY performan bien, posiblemente porque la oferta era muy buena viendo los precios promedio (a falta de un ASP, no se puede afirmar de todas formas) "
   ]
  },
  {
   "cell_type": "markdown",
   "metadata": {},
   "source": [
    "# Efecto de free shipping"
   ]
  },
  {
   "cell_type": "code",
   "execution_count": 30,
   "metadata": {},
   "outputs": [],
   "source": [
    "sh_df = df.groupby(['SHIPPING_PAYMENT_TYPE'])[['INVOLVED_STOCK', 'SOLD_AMOUNT', 'SOLD_QUANTITY', 'SOLD_PERCENT', 'OFFER_SPAN_MINUTES', 'ASP']].agg(['sum', 'max', 'mean', 'median', 'count'])\n",
    "sh_df.columns = ['_'.join(col) for col in sh_df.columns.to_flat_index()]"
   ]
  },
  {
   "cell_type": "code",
   "execution_count": 39,
   "metadata": {},
   "outputs": [
    {
     "data": {
      "text/html": [
       "<div>\n",
       "<style scoped>\n",
       "    .dataframe tbody tr th:only-of-type {\n",
       "        vertical-align: middle;\n",
       "    }\n",
       "\n",
       "    .dataframe tbody tr th {\n",
       "        vertical-align: top;\n",
       "    }\n",
       "\n",
       "    .dataframe thead th {\n",
       "        text-align: right;\n",
       "    }\n",
       "</style>\n",
       "<table border=\"1\" class=\"dataframe\">\n",
       "  <thead>\n",
       "    <tr style=\"text-align: right;\">\n",
       "      <th></th>\n",
       "      <th>SOLD_PERCENT_count</th>\n",
       "      <th>SOLD_PERCENT_mean</th>\n",
       "      <th>ASP_median</th>\n",
       "      <th>SOLD_QUANTITY_sum</th>\n",
       "      <th>SOLD_AMOUNT_sum</th>\n",
       "      <th>INVOLVED_STOCK_sum</th>\n",
       "    </tr>\n",
       "    <tr>\n",
       "      <th>SHIPPING_PAYMENT_TYPE</th>\n",
       "      <th></th>\n",
       "      <th></th>\n",
       "      <th></th>\n",
       "      <th></th>\n",
       "      <th></th>\n",
       "      <th></th>\n",
       "    </tr>\n",
       "  </thead>\n",
       "  <tbody>\n",
       "    <tr>\n",
       "      <th>free_shipping</th>\n",
       "      <td>26658</td>\n",
       "      <td>0.156757</td>\n",
       "      <td>7.897</td>\n",
       "      <td>66124.0</td>\n",
       "      <td>748536.12</td>\n",
       "      <td>592537</td>\n",
       "    </tr>\n",
       "    <tr>\n",
       "      <th>none</th>\n",
       "      <td>22088</td>\n",
       "      <td>0.259344</td>\n",
       "      <td>2.430</td>\n",
       "      <td>203566.0</td>\n",
       "      <td>510127.38</td>\n",
       "      <td>1113939</td>\n",
       "    </tr>\n",
       "  </tbody>\n",
       "</table>\n",
       "</div>"
      ],
      "text/plain": [
       "                       SOLD_PERCENT_count  SOLD_PERCENT_mean  ASP_median  \\\n",
       "SHIPPING_PAYMENT_TYPE                                                      \n",
       "free_shipping                       26658           0.156757       7.897   \n",
       "none                                22088           0.259344       2.430   \n",
       "\n",
       "                       SOLD_QUANTITY_sum  SOLD_AMOUNT_sum  INVOLVED_STOCK_sum  \n",
       "SHIPPING_PAYMENT_TYPE                                                          \n",
       "free_shipping                    66124.0        748536.12              592537  \n",
       "none                            203566.0        510127.38             1113939  "
      ]
     },
     "execution_count": 39,
     "metadata": {},
     "output_type": "execute_result"
    }
   ],
   "source": [
    "sh_df[['SOLD_PERCENT_count', 'SOLD_PERCENT_mean', 'ASP_median', 'SOLD_QUANTITY_sum', 'SOLD_AMOUNT_sum', 'INVOLVED_STOCK_sum']]"
   ]
  },
  {
   "cell_type": "code",
   "execution_count": 35,
   "metadata": {},
   "outputs": [
    {
     "data": {
      "text/html": [
       "<div>\n",
       "<style scoped>\n",
       "    .dataframe tbody tr th:only-of-type {\n",
       "        vertical-align: middle;\n",
       "    }\n",
       "\n",
       "    .dataframe tbody tr th {\n",
       "        vertical-align: top;\n",
       "    }\n",
       "\n",
       "    .dataframe thead th {\n",
       "        text-align: right;\n",
       "    }\n",
       "</style>\n",
       "<table border=\"1\" class=\"dataframe\">\n",
       "  <thead>\n",
       "    <tr style=\"text-align: right;\">\n",
       "      <th></th>\n",
       "      <th>SOLD_PERCENT_count</th>\n",
       "      <th>SOLD_PERCENT_mean</th>\n",
       "      <th>ASP_median</th>\n",
       "    </tr>\n",
       "    <tr>\n",
       "      <th>SHIPPING_PAYMENT_TYPE</th>\n",
       "      <th></th>\n",
       "      <th></th>\n",
       "      <th></th>\n",
       "    </tr>\n",
       "  </thead>\n",
       "  <tbody>\n",
       "    <tr>\n",
       "      <th>free_shipping</th>\n",
       "      <td>1183</td>\n",
       "      <td>0.303577</td>\n",
       "      <td>7.475333</td>\n",
       "    </tr>\n",
       "    <tr>\n",
       "      <th>none</th>\n",
       "      <td>1852</td>\n",
       "      <td>0.377373</td>\n",
       "      <td>2.261000</td>\n",
       "    </tr>\n",
       "  </tbody>\n",
       "</table>\n",
       "</div>"
      ],
      "text/plain": [
       "                       SOLD_PERCENT_count  SOLD_PERCENT_mean  ASP_median\n",
       "SHIPPING_PAYMENT_TYPE                                                   \n",
       "free_shipping                        1183           0.303577    7.475333\n",
       "none                                 1852           0.377373    2.261000"
      ]
     },
     "execution_count": 35,
     "metadata": {},
     "output_type": "execute_result"
    }
   ],
   "source": [
    "shp_df = df[df['DOM_DOMAIN_AGG1'] == 'PHARMACEUTICS'].groupby(['SHIPPING_PAYMENT_TYPE'])[['INVOLVED_STOCK', 'SOLD_AMOUNT', 'SOLD_QUANTITY', 'SOLD_PERCENT', 'ASP']].agg(['sum', 'max', 'mean', 'median', 'count'])\n",
    "shp_df.columns = ['_'.join(col) for col in shp_df.columns.to_flat_index()]\n",
    "shp_df[['SOLD_PERCENT_count', 'SOLD_PERCENT_mean', 'ASP_median']]"
   ]
  },
  {
   "cell_type": "markdown",
   "metadata": {},
   "source": [
    "A pesar de ofertar cantidades similares en el cerrado, aquellas ofertas relampago sin envio gratis resultaron vender mas del stock ofertado que aquellas con envio gratis (y mas unidades en general). Podria deberse a una cuestion de precio, dada la diferencia en ASP, que podria justificar el pago del envio."
   ]
  },
  {
   "cell_type": "markdown",
   "metadata": {},
   "source": [
    "# Efecto del tiempo de oferta relampago"
   ]
  },
  {
   "cell_type": "code",
   "execution_count": 22,
   "metadata": {},
   "outputs": [
    {
     "data": {
      "text/html": [
       "<div>\n",
       "<style scoped>\n",
       "    .dataframe tbody tr th:only-of-type {\n",
       "        vertical-align: middle;\n",
       "    }\n",
       "\n",
       "    .dataframe tbody tr th {\n",
       "        vertical-align: top;\n",
       "    }\n",
       "\n",
       "    .dataframe thead th {\n",
       "        text-align: right;\n",
       "    }\n",
       "</style>\n",
       "<table border=\"1\" class=\"dataframe\">\n",
       "  <thead>\n",
       "    <tr style=\"text-align: right;\">\n",
       "      <th></th>\n",
       "      <th>OFFER_SPAN_MINUTES</th>\n",
       "      <th>SOLD_PERCENT</th>\n",
       "    </tr>\n",
       "  </thead>\n",
       "  <tbody>\n",
       "    <tr>\n",
       "      <th>OFFER_SPAN_MINUTES</th>\n",
       "      <td>1.000000</td>\n",
       "      <td>-0.141833</td>\n",
       "    </tr>\n",
       "    <tr>\n",
       "      <th>SOLD_PERCENT</th>\n",
       "      <td>-0.141833</td>\n",
       "      <td>1.000000</td>\n",
       "    </tr>\n",
       "  </tbody>\n",
       "</table>\n",
       "</div>"
      ],
      "text/plain": [
       "                    OFFER_SPAN_MINUTES  SOLD_PERCENT\n",
       "OFFER_SPAN_MINUTES            1.000000     -0.141833\n",
       "SOLD_PERCENT                 -0.141833      1.000000"
      ]
     },
     "execution_count": 22,
     "metadata": {},
     "output_type": "execute_result"
    }
   ],
   "source": [
    "df[['OFFER_SPAN_MINUTES', 'SOLD_PERCENT']].corr()"
   ]
  },
  {
   "cell_type": "code",
   "execution_count": 23,
   "metadata": {},
   "outputs": [
    {
     "data": {
      "text/html": [
       "<div>\n",
       "<style scoped>\n",
       "    .dataframe tbody tr th:only-of-type {\n",
       "        vertical-align: middle;\n",
       "    }\n",
       "\n",
       "    .dataframe tbody tr th {\n",
       "        vertical-align: top;\n",
       "    }\n",
       "\n",
       "    .dataframe thead th {\n",
       "        text-align: right;\n",
       "    }\n",
       "</style>\n",
       "<table border=\"1\" class=\"dataframe\">\n",
       "  <thead>\n",
       "    <tr style=\"text-align: right;\">\n",
       "      <th></th>\n",
       "      <th>OFFER_SPAN_MINUTES_</th>\n",
       "      <th>SOLD_PERCENT_mean</th>\n",
       "      <th>SOLD_PERCENT_median</th>\n",
       "      <th>SOLD_PERCENT_count</th>\n",
       "    </tr>\n",
       "  </thead>\n",
       "  <tbody>\n",
       "    <tr>\n",
       "      <th>0</th>\n",
       "      <td>0.0</td>\n",
       "      <td>0.000776</td>\n",
       "      <td>0.000000</td>\n",
       "      <td>3864</td>\n",
       "    </tr>\n",
       "    <tr>\n",
       "      <th>1</th>\n",
       "      <td>10.0</td>\n",
       "      <td>0.704318</td>\n",
       "      <td>1.000000</td>\n",
       "      <td>30</td>\n",
       "    </tr>\n",
       "    <tr>\n",
       "      <th>2</th>\n",
       "      <td>20.0</td>\n",
       "      <td>0.927083</td>\n",
       "      <td>1.000000</td>\n",
       "      <td>36</td>\n",
       "    </tr>\n",
       "    <tr>\n",
       "      <th>3</th>\n",
       "      <td>30.0</td>\n",
       "      <td>0.950768</td>\n",
       "      <td>1.000000</td>\n",
       "      <td>41</td>\n",
       "    </tr>\n",
       "    <tr>\n",
       "      <th>4</th>\n",
       "      <td>40.0</td>\n",
       "      <td>0.846776</td>\n",
       "      <td>1.000000</td>\n",
       "      <td>46</td>\n",
       "    </tr>\n",
       "    <tr>\n",
       "      <th>...</th>\n",
       "      <td>...</td>\n",
       "      <td>...</td>\n",
       "      <td>...</td>\n",
       "      <td>...</td>\n",
       "    </tr>\n",
       "    <tr>\n",
       "      <th>57</th>\n",
       "      <td>660.0</td>\n",
       "      <td>0.025000</td>\n",
       "      <td>0.025000</td>\n",
       "      <td>2</td>\n",
       "    </tr>\n",
       "    <tr>\n",
       "      <th>58</th>\n",
       "      <td>700.0</td>\n",
       "      <td>0.056667</td>\n",
       "      <td>0.056667</td>\n",
       "      <td>2</td>\n",
       "    </tr>\n",
       "    <tr>\n",
       "      <th>59</th>\n",
       "      <td>720.0</td>\n",
       "      <td>0.246822</td>\n",
       "      <td>0.133333</td>\n",
       "      <td>172</td>\n",
       "    </tr>\n",
       "    <tr>\n",
       "      <th>60</th>\n",
       "      <td>880.0</td>\n",
       "      <td>0.166667</td>\n",
       "      <td>0.100000</td>\n",
       "      <td>3</td>\n",
       "    </tr>\n",
       "    <tr>\n",
       "      <th>61</th>\n",
       "      <td>940.0</td>\n",
       "      <td>0.000000</td>\n",
       "      <td>0.000000</td>\n",
       "      <td>1</td>\n",
       "    </tr>\n",
       "  </tbody>\n",
       "</table>\n",
       "<p>62 rows × 4 columns</p>\n",
       "</div>"
      ],
      "text/plain": [
       "    OFFER_SPAN_MINUTES_  SOLD_PERCENT_mean  SOLD_PERCENT_median  \\\n",
       "0                   0.0           0.000776             0.000000   \n",
       "1                  10.0           0.704318             1.000000   \n",
       "2                  20.0           0.927083             1.000000   \n",
       "3                  30.0           0.950768             1.000000   \n",
       "4                  40.0           0.846776             1.000000   \n",
       "..                  ...                ...                  ...   \n",
       "57                660.0           0.025000             0.025000   \n",
       "58                700.0           0.056667             0.056667   \n",
       "59                720.0           0.246822             0.133333   \n",
       "60                880.0           0.166667             0.100000   \n",
       "61                940.0           0.000000             0.000000   \n",
       "\n",
       "    SOLD_PERCENT_count  \n",
       "0                 3864  \n",
       "1                   30  \n",
       "2                   36  \n",
       "3                   41  \n",
       "4                   46  \n",
       "..                 ...  \n",
       "57                   2  \n",
       "58                   2  \n",
       "59                 172  \n",
       "60                   3  \n",
       "61                   1  \n",
       "\n",
       "[62 rows x 4 columns]"
      ]
     },
     "execution_count": 23,
     "metadata": {},
     "output_type": "execute_result"
    }
   ],
   "source": [
    "time_df = df.groupby(round(df['OFFER_SPAN_MINUTES'], -1))[['SOLD_PERCENT']].agg(['mean', 'median', 'count']).reset_index()\n",
    "time_df.columns = ['_'.join(col) for col in time_df.columns.to_flat_index()]\n",
    "time_df"
   ]
  },
  {
   "cell_type": "code",
   "execution_count": 24,
   "metadata": {},
   "outputs": [
    {
     "data": {
      "text/plain": [
       "<Axes: xlabel='OFFER_SPAN_MINUTES_', ylabel='SOLD_PERCENT_count'>"
      ]
     },
     "execution_count": 24,
     "metadata": {},
     "output_type": "execute_result"
    },
    {
     "data": {
      "image/png": "[encoded data removed]",
      "text/plain": [
       "<Figure size 640x480 with 1 Axes>"
      ]
     },
     "metadata": {},
     "output_type": "display_data"
    }
   ],
   "source": [
    "sns.scatterplot(time_df, x='OFFER_SPAN_MINUTES_', y='SOLD_PERCENT_count')"
   ]
  },
  {
   "cell_type": "code",
   "execution_count": 25,
   "metadata": {},
   "outputs": [
    {
     "data": {
      "text/plain": [
       "<Axes: xlabel='OFFER_SPAN_MINUTES_', ylabel='SOLD_PERCENT_mean'>"
      ]
     },
     "execution_count": 25,
     "metadata": {},
     "output_type": "execute_result"
    },
    {
     "data": {
      "image/png": "[encoded data removed]",
      "text/plain": [
       "<Figure size 640x480 with 1 Axes>"
      ]
     },
     "metadata": {},
     "output_type": "display_data"
    }
   ],
   "source": [
    "sns.regplot(time_df, x='OFFER_SPAN_MINUTES_', y='SOLD_PERCENT_mean')"
   ]
  },
  {
   "cell_type": "code",
   "execution_count": 26,
   "metadata": {},
   "outputs": [
    {
     "data": {
      "text/plain": [
       "<Axes: xlabel='OFFER_SPAN_MINUTES_', ylabel='SOLD_PERCENT_median'>"
      ]
     },
     "execution_count": 26,
     "metadata": {},
     "output_type": "execute_result"
    },
    {
     "data": {
      "image/png": "[encoded data removed]",
      "text/plain": [
       "<Figure size 640x480 with 1 Axes>"
      ]
     },
     "metadata": {},
     "output_type": "display_data"
    }
   ],
   "source": [
    "sns.regplot(time_df, x='OFFER_SPAN_MINUTES_', y='SOLD_PERCENT_median')"
   ]
  },
  {
   "cell_type": "markdown",
   "metadata": {},
   "source": [
    "Aquellas ofertas de menor tiempo de disponibilidad aparentan ser mas exitosas en vender su stock."
   ]
  },
  {
   "cell_type": "code",
   "execution_count": 27,
   "metadata": {},
   "outputs": [],
   "source": [
    "dom_df = df.groupby(['DOM_DOMAIN_AGG1'])[['INVOLVED_STOCK', 'REMAINING_STOCK_AFTER_END', 'SOLD_AMOUNT', 'SOLD_QUANTITY', 'SOLD_PERCENT', 'OFFER_SPAN_MINUTES']].agg(['sum', 'max', 'mean', 'median', 'count'])\n",
    "dom_df.columns = ['_'.join(col) for col in dom_df.columns.to_flat_index()]"
   ]
  },
  {
   "cell_type": "markdown",
   "metadata": {},
   "source": [
    "# Cuales sobrevendieron?"
   ]
  },
  {
   "cell_type": "code",
   "execution_count": 43,
   "metadata": {},
   "outputs": [
    {
     "data": {
      "text/html": [
       "<div>\n",
       "<style scoped>\n",
       "    .dataframe tbody tr th:only-of-type {\n",
       "        vertical-align: middle;\n",
       "    }\n",
       "\n",
       "    .dataframe tbody tr th {\n",
       "        vertical-align: top;\n",
       "    }\n",
       "\n",
       "    .dataframe thead th {\n",
       "        text-align: right;\n",
       "    }\n",
       "</style>\n",
       "<table border=\"1\" class=\"dataframe\">\n",
       "  <thead>\n",
       "    <tr style=\"text-align: right;\">\n",
       "      <th></th>\n",
       "      <th>OFFER_START_DATE</th>\n",
       "      <th>OFFER_START_DTTM</th>\n",
       "      <th>OFFER_FINISH_DTTM</th>\n",
       "      <th>OFFER_TYPE</th>\n",
       "      <th>INVOLVED_STOCK</th>\n",
       "      <th>REMAINING_STOCK_AFTER_END</th>\n",
       "      <th>SOLD_AMOUNT</th>\n",
       "      <th>SOLD_QUANTITY</th>\n",
       "      <th>ORIGIN</th>\n",
       "      <th>SHIPPING_PAYMENT_TYPE</th>\n",
       "      <th>DOM_DOMAIN_AGG1</th>\n",
       "      <th>VERTICAL</th>\n",
       "      <th>DOMAIN_ID</th>\n",
       "      <th>ASP</th>\n",
       "      <th>OFFER_SPAN</th>\n",
       "      <th>OFFER_SPAN_MINUTES</th>\n",
       "      <th>SOLD_PERCENT</th>\n",
       "    </tr>\n",
       "  </thead>\n",
       "  <tbody>\n",
       "    <tr>\n",
       "      <th>0</th>\n",
       "      <td>2021-06-22</td>\n",
       "      <td>2021-06-22 16:00:00+00:00</td>\n",
       "      <td>2021-06-22 23:02:43+00:00</td>\n",
       "      <td>lightning_deal</td>\n",
       "      <td>4</td>\n",
       "      <td>-2</td>\n",
       "      <td>4.72</td>\n",
       "      <td>6.0</td>\n",
       "      <td>A</td>\n",
       "      <td>none</td>\n",
       "      <td>PETS FOOD</td>\n",
       "      <td>CPG</td>\n",
       "      <td>MLM-BIRD_FOODS</td>\n",
       "      <td>0.786667</td>\n",
       "      <td>0 days 07:02:43</td>\n",
       "      <td>423.0</td>\n",
       "      <td>1.0</td>\n",
       "    </tr>\n",
       "    <tr>\n",
       "      <th>7</th>\n",
       "      <td>2021-06-22</td>\n",
       "      <td>2021-06-22 19:00:00+00:00</td>\n",
       "      <td>2021-06-22 23:05:39+00:00</td>\n",
       "      <td>lightning_deal</td>\n",
       "      <td>10</td>\n",
       "      <td>-1</td>\n",
       "      <td>103.03</td>\n",
       "      <td>11.0</td>\n",
       "      <td>NaN</td>\n",
       "      <td>free_shipping</td>\n",
       "      <td>COMPUTERS</td>\n",
       "      <td>CE</td>\n",
       "      <td>MLM-HEADPHONES</td>\n",
       "      <td>9.366364</td>\n",
       "      <td>0 days 04:05:39</td>\n",
       "      <td>246.0</td>\n",
       "      <td>1.0</td>\n",
       "    </tr>\n",
       "    <tr>\n",
       "      <th>8</th>\n",
       "      <td>2021-06-22</td>\n",
       "      <td>2021-06-22 19:00:00+00:00</td>\n",
       "      <td>2021-06-22 23:05:32+00:00</td>\n",
       "      <td>lightning_deal</td>\n",
       "      <td>10</td>\n",
       "      <td>-1</td>\n",
       "      <td>NaN</td>\n",
       "      <td>11.0</td>\n",
       "      <td>NaN</td>\n",
       "      <td>free_shipping</td>\n",
       "      <td>COMPUTERS</td>\n",
       "      <td>CE</td>\n",
       "      <td>MLM-HEADPHONES</td>\n",
       "      <td>NaN</td>\n",
       "      <td>0 days 04:05:32</td>\n",
       "      <td>246.0</td>\n",
       "      <td>1.0</td>\n",
       "    </tr>\n",
       "    <tr>\n",
       "      <th>29</th>\n",
       "      <td>2021-06-22</td>\n",
       "      <td>2021-06-22 13:00:00+00:00</td>\n",
       "      <td>2021-06-22 14:20:21+00:00</td>\n",
       "      <td>lightning_deal</td>\n",
       "      <td>5</td>\n",
       "      <td>-4</td>\n",
       "      <td>12.18</td>\n",
       "      <td>9.0</td>\n",
       "      <td>NaN</td>\n",
       "      <td>none</td>\n",
       "      <td>HOME&amp;DECOR</td>\n",
       "      <td>HOME &amp; INDUSTRY</td>\n",
       "      <td>MLM-SOAP_AND_DETERGENT_DISPENSERS</td>\n",
       "      <td>1.353333</td>\n",
       "      <td>0 days 01:20:21</td>\n",
       "      <td>80.0</td>\n",
       "      <td>1.0</td>\n",
       "    </tr>\n",
       "    <tr>\n",
       "      <th>77</th>\n",
       "      <td>2021-06-22</td>\n",
       "      <td>2021-06-22 16:00:00+00:00</td>\n",
       "      <td>2021-06-22 18:42:19+00:00</td>\n",
       "      <td>lightning_deal</td>\n",
       "      <td>8</td>\n",
       "      <td>-1</td>\n",
       "      <td>12.61</td>\n",
       "      <td>9.0</td>\n",
       "      <td>A</td>\n",
       "      <td>none</td>\n",
       "      <td>PETS FOOD</td>\n",
       "      <td>CPG</td>\n",
       "      <td>MLM-CATS_AND_DOGS_FOODS</td>\n",
       "      <td>1.401111</td>\n",
       "      <td>0 days 02:42:19</td>\n",
       "      <td>162.0</td>\n",
       "      <td>1.0</td>\n",
       "    </tr>\n",
       "  </tbody>\n",
       "</table>\n",
       "</div>"
      ],
      "text/plain": [
       "   OFFER_START_DATE          OFFER_START_DTTM         OFFER_FINISH_DTTM  \\\n",
       "0        2021-06-22 2021-06-22 16:00:00+00:00 2021-06-22 23:02:43+00:00   \n",
       "7        2021-06-22 2021-06-22 19:00:00+00:00 2021-06-22 23:05:39+00:00   \n",
       "8        2021-06-22 2021-06-22 19:00:00+00:00 2021-06-22 23:05:32+00:00   \n",
       "29       2021-06-22 2021-06-22 13:00:00+00:00 2021-06-22 14:20:21+00:00   \n",
       "77       2021-06-22 2021-06-22 16:00:00+00:00 2021-06-22 18:42:19+00:00   \n",
       "\n",
       "        OFFER_TYPE  INVOLVED_STOCK  REMAINING_STOCK_AFTER_END  SOLD_AMOUNT  \\\n",
       "0   lightning_deal               4                         -2         4.72   \n",
       "7   lightning_deal              10                         -1       103.03   \n",
       "8   lightning_deal              10                         -1          NaN   \n",
       "29  lightning_deal               5                         -4        12.18   \n",
       "77  lightning_deal               8                         -1        12.61   \n",
       "\n",
       "    SOLD_QUANTITY ORIGIN SHIPPING_PAYMENT_TYPE DOM_DOMAIN_AGG1  \\\n",
       "0             6.0      A                  none       PETS FOOD   \n",
       "7            11.0    NaN         free_shipping       COMPUTERS   \n",
       "8            11.0    NaN         free_shipping       COMPUTERS   \n",
       "29            9.0    NaN                  none      HOME&DECOR   \n",
       "77            9.0      A                  none       PETS FOOD   \n",
       "\n",
       "           VERTICAL                          DOMAIN_ID       ASP  \\\n",
       "0               CPG                     MLM-BIRD_FOODS  0.786667   \n",
       "7                CE                     MLM-HEADPHONES  9.366364   \n",
       "8                CE                     MLM-HEADPHONES       NaN   \n",
       "29  HOME & INDUSTRY  MLM-SOAP_AND_DETERGENT_DISPENSERS  1.353333   \n",
       "77              CPG            MLM-CATS_AND_DOGS_FOODS  1.401111   \n",
       "\n",
       "        OFFER_SPAN  OFFER_SPAN_MINUTES  SOLD_PERCENT  \n",
       "0  0 days 07:02:43               423.0           1.0  \n",
       "7  0 days 04:05:39               246.0           1.0  \n",
       "8  0 days 04:05:32               246.0           1.0  \n",
       "29 0 days 01:20:21                80.0           1.0  \n",
       "77 0 days 02:42:19               162.0           1.0  "
      ]
     },
     "execution_count": 43,
     "metadata": {},
     "output_type": "execute_result"
    }
   ],
   "source": [
    "os_df = df[df['REMAINING_STOCK_AFTER_END'] < 0]\n",
    "os_df.head()"
   ]
  },
  {
   "cell_type": "code",
   "execution_count": 45,
   "metadata": {},
   "outputs": [],
   "source": [
    "# TODO: Cuanto sobrevendieron? Que categorias? "
   ]
  },
  {
   "cell_type": "markdown",
   "metadata": {},
   "source": [
    "# Cuales no vendieron?"
   ]
  },
  {
   "cell_type": "code",
   "execution_count": 46,
   "metadata": {},
   "outputs": [
    {
     "data": {
      "text/html": [
       "<div>\n",
       "<style scoped>\n",
       "    .dataframe tbody tr th:only-of-type {\n",
       "        vertical-align: middle;\n",
       "    }\n",
       "\n",
       "    .dataframe tbody tr th {\n",
       "        vertical-align: top;\n",
       "    }\n",
       "\n",
       "    .dataframe thead th {\n",
       "        text-align: right;\n",
       "    }\n",
       "</style>\n",
       "<table border=\"1\" class=\"dataframe\">\n",
       "  <thead>\n",
       "    <tr style=\"text-align: right;\">\n",
       "      <th></th>\n",
       "      <th>OFFER_START_DATE</th>\n",
       "      <th>OFFER_START_DTTM</th>\n",
       "      <th>OFFER_FINISH_DTTM</th>\n",
       "      <th>OFFER_TYPE</th>\n",
       "      <th>INVOLVED_STOCK</th>\n",
       "      <th>REMAINING_STOCK_AFTER_END</th>\n",
       "      <th>SOLD_AMOUNT</th>\n",
       "      <th>SOLD_QUANTITY</th>\n",
       "      <th>ORIGIN</th>\n",
       "      <th>SHIPPING_PAYMENT_TYPE</th>\n",
       "      <th>DOM_DOMAIN_AGG1</th>\n",
       "      <th>VERTICAL</th>\n",
       "      <th>DOMAIN_ID</th>\n",
       "      <th>ASP</th>\n",
       "      <th>OFFER_SPAN</th>\n",
       "      <th>OFFER_SPAN_MINUTES</th>\n",
       "      <th>SOLD_PERCENT</th>\n",
       "    </tr>\n",
       "  </thead>\n",
       "  <tbody>\n",
       "    <tr>\n",
       "      <th>1</th>\n",
       "      <td>2021-06-22</td>\n",
       "      <td>2021-06-22 13:00:00+00:00</td>\n",
       "      <td>2021-06-22 19:00:02+00:00</td>\n",
       "      <td>lightning_deal</td>\n",
       "      <td>5</td>\n",
       "      <td>5</td>\n",
       "      <td>NaN</td>\n",
       "      <td>0.0</td>\n",
       "      <td>NaN</td>\n",
       "      <td>free_shipping</td>\n",
       "      <td>PET PRODUCTS</td>\n",
       "      <td>OTHERS</td>\n",
       "      <td>MLM-ANIMAL_AND_PET_PRODUCTS</td>\n",
       "      <td>NaN</td>\n",
       "      <td>0 days 06:00:02</td>\n",
       "      <td>360.0</td>\n",
       "      <td>0.0</td>\n",
       "    </tr>\n",
       "    <tr>\n",
       "      <th>5</th>\n",
       "      <td>2021-06-22</td>\n",
       "      <td>2021-06-22 18:00:00+00:00</td>\n",
       "      <td>2021-06-23 01:00:12+00:00</td>\n",
       "      <td>lightning_deal</td>\n",
       "      <td>23</td>\n",
       "      <td>23</td>\n",
       "      <td>NaN</td>\n",
       "      <td>0.0</td>\n",
       "      <td>A</td>\n",
       "      <td>free_shipping</td>\n",
       "      <td>COMPUTERS</td>\n",
       "      <td>CE</td>\n",
       "      <td>MLM-HEADPHONES</td>\n",
       "      <td>NaN</td>\n",
       "      <td>0 days 07:00:12</td>\n",
       "      <td>420.0</td>\n",
       "      <td>0.0</td>\n",
       "    </tr>\n",
       "    <tr>\n",
       "      <th>6</th>\n",
       "      <td>2021-06-22</td>\n",
       "      <td>2021-06-22 13:00:00+00:00</td>\n",
       "      <td>2021-06-22 19:00:00+00:00</td>\n",
       "      <td>lightning_deal</td>\n",
       "      <td>10</td>\n",
       "      <td>10</td>\n",
       "      <td>NaN</td>\n",
       "      <td>0.0</td>\n",
       "      <td>NaN</td>\n",
       "      <td>free_shipping</td>\n",
       "      <td>COMPUTERS</td>\n",
       "      <td>CE</td>\n",
       "      <td>MLM-HEADPHONES</td>\n",
       "      <td>NaN</td>\n",
       "      <td>0 days 06:00:00</td>\n",
       "      <td>360.0</td>\n",
       "      <td>0.0</td>\n",
       "    </tr>\n",
       "    <tr>\n",
       "      <th>11</th>\n",
       "      <td>2021-06-22</td>\n",
       "      <td>2021-06-22 19:00:00+00:00</td>\n",
       "      <td>2021-06-23 01:00:04+00:00</td>\n",
       "      <td>lightning_deal</td>\n",
       "      <td>15</td>\n",
       "      <td>15</td>\n",
       "      <td>NaN</td>\n",
       "      <td>0.0</td>\n",
       "      <td>NaN</td>\n",
       "      <td>none</td>\n",
       "      <td>ELECTRONICS</td>\n",
       "      <td>CE</td>\n",
       "      <td>MLM-ELECTRONIC_PRODUCTS</td>\n",
       "      <td>NaN</td>\n",
       "      <td>0 days 06:00:04</td>\n",
       "      <td>360.0</td>\n",
       "      <td>0.0</td>\n",
       "    </tr>\n",
       "    <tr>\n",
       "      <th>15</th>\n",
       "      <td>2021-06-22</td>\n",
       "      <td>2021-06-22 15:00:00+00:00</td>\n",
       "      <td>2021-06-22 23:00:00+00:00</td>\n",
       "      <td>lightning_deal</td>\n",
       "      <td>6</td>\n",
       "      <td>6</td>\n",
       "      <td>NaN</td>\n",
       "      <td>0.0</td>\n",
       "      <td>A</td>\n",
       "      <td>free_shipping</td>\n",
       "      <td>PETS FOOD</td>\n",
       "      <td>CPG</td>\n",
       "      <td>MLM-CATS_AND_DOGS_FOODS</td>\n",
       "      <td>NaN</td>\n",
       "      <td>0 days 08:00:00</td>\n",
       "      <td>480.0</td>\n",
       "      <td>0.0</td>\n",
       "    </tr>\n",
       "  </tbody>\n",
       "</table>\n",
       "</div>"
      ],
      "text/plain": [
       "   OFFER_START_DATE          OFFER_START_DTTM         OFFER_FINISH_DTTM  \\\n",
       "1        2021-06-22 2021-06-22 13:00:00+00:00 2021-06-22 19:00:02+00:00   \n",
       "5        2021-06-22 2021-06-22 18:00:00+00:00 2021-06-23 01:00:12+00:00   \n",
       "6        2021-06-22 2021-06-22 13:00:00+00:00 2021-06-22 19:00:00+00:00   \n",
       "11       2021-06-22 2021-06-22 19:00:00+00:00 2021-06-23 01:00:04+00:00   \n",
       "15       2021-06-22 2021-06-22 15:00:00+00:00 2021-06-22 23:00:00+00:00   \n",
       "\n",
       "        OFFER_TYPE  INVOLVED_STOCK  REMAINING_STOCK_AFTER_END  SOLD_AMOUNT  \\\n",
       "1   lightning_deal               5                          5          NaN   \n",
       "5   lightning_deal              23                         23          NaN   \n",
       "6   lightning_deal              10                         10          NaN   \n",
       "11  lightning_deal              15                         15          NaN   \n",
       "15  lightning_deal               6                          6          NaN   \n",
       "\n",
       "    SOLD_QUANTITY ORIGIN SHIPPING_PAYMENT_TYPE DOM_DOMAIN_AGG1 VERTICAL  \\\n",
       "1             0.0    NaN         free_shipping    PET PRODUCTS   OTHERS   \n",
       "5             0.0      A         free_shipping       COMPUTERS       CE   \n",
       "6             0.0    NaN         free_shipping       COMPUTERS       CE   \n",
       "11            0.0    NaN                  none     ELECTRONICS       CE   \n",
       "15            0.0      A         free_shipping       PETS FOOD      CPG   \n",
       "\n",
       "                      DOMAIN_ID  ASP      OFFER_SPAN  OFFER_SPAN_MINUTES  \\\n",
       "1   MLM-ANIMAL_AND_PET_PRODUCTS  NaN 0 days 06:00:02               360.0   \n",
       "5                MLM-HEADPHONES  NaN 0 days 07:00:12               420.0   \n",
       "6                MLM-HEADPHONES  NaN 0 days 06:00:00               360.0   \n",
       "11      MLM-ELECTRONIC_PRODUCTS  NaN 0 days 06:00:04               360.0   \n",
       "15      MLM-CATS_AND_DOGS_FOODS  NaN 0 days 08:00:00               480.0   \n",
       "\n",
       "    SOLD_PERCENT  \n",
       "1            0.0  \n",
       "5            0.0  \n",
       "6            0.0  \n",
       "11           0.0  \n",
       "15           0.0  "
      ]
     },
     "execution_count": 46,
     "metadata": {},
     "output_type": "execute_result"
    }
   ],
   "source": [
    "ns_df = df[df['SOLD_QUANTITY'] == 0]\n",
    "ns_df.head()"
   ]
  },
  {
   "cell_type": "code",
   "execution_count": 47,
   "metadata": {},
   "outputs": [],
   "source": [
    "# TODO: Cuanto sobrevendieron? Que categorias? "
   ]
  },
  {
   "cell_type": "markdown",
   "metadata": {},
   "source": [
    "# Amounts vs cantidades"
   ]
  },
  {
   "cell_type": "code",
   "execution_count": null,
   "metadata": {},
   "outputs": [],
   "source": []
  }
 ],
 "metadata": {
  "kernelspec": {
   "display_name": "tf-wsl",
   "language": "python",
   "name": "python3"
  },
  "language_info": {
   "codemirror_mode": {
    "name": "ipython",
    "version": 3
   },
   "file_extension": ".py",
   "mimetype": "text/x-python",
   "name": "python",
   "nbconvert_exporter": "python",
   "pygments_lexer": "ipython3",
   "version": "3.9.19"
  }
 },
 "nbformat": 4,
 "nbformat_minor": 2
}
