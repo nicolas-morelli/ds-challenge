{
 "cells": [
  {
   "cell_type": "code",
   "execution_count": 1,
   "metadata": {},
   "outputs": [
    {
     "name": "stderr",
     "output_type": "stream",
     "text": [
      "2024-11-04 08:54:51.078391: I tensorflow/core/util/port.cc:153] oneDNN custom operations are on. You may see slightly different numerical results due to floating-point round-off errors from different computation orders. To turn them off, set the environment variable `TF_ENABLE_ONEDNN_OPTS=0`.\n",
      "2024-11-04 08:54:51.284037: E external/local_xla/xla/stream_executor/cuda/cuda_fft.cc:485] Unable to register cuFFT factory: Attempting to register factory for plugin cuFFT when one has already been registered\n",
      "2024-11-04 08:54:51.349266: E external/local_xla/xla/stream_executor/cuda/cuda_dnn.cc:8454] Unable to register cuDNN factory: Attempting to register factory for plugin cuDNN when one has already been registered\n",
      "2024-11-04 08:54:51.372712: E external/local_xla/xla/stream_executor/cuda/cuda_blas.cc:1452] Unable to register cuBLAS factory: Attempting to register factory for plugin cuBLAS when one has already been registered\n",
      "2024-11-04 08:54:51.528457: I tensorflow/core/platform/cpu_feature_guard.cc:210] This TensorFlow binary is optimized to use available CPU instructions in performance-critical operations.\n",
      "To enable the following instructions: AVX2 AVX_VNNI FMA, in other operations, rebuild TensorFlow with the appropriate compiler flags.\n",
      "2024-11-04 08:54:52.424692: W tensorflow/compiler/tf2tensorrt/utils/py_utils.cc:38] TF-TRT Warning: Could not find TensorRT\n"
     ]
    }
   ],
   "source": [
    "import numpy as np\n",
    "import pandas as pd\n",
    "import seaborn as sns\n",
    "import tensorflow as tf\n",
    "import keras_tuner as kt\n",
    "import matplotlib.pyplot as plt\n",
    "import statsmodels.api as sm\n",
    "from statsmodels.tsa.statespace.sarimax import SARIMAX\n",
    "from sklearn.metrics import mean_absolute_error\n",
    "from funcs import set_dataset, make_rnn"
   ]
  },
  {
   "cell_type": "code",
   "execution_count": 2,
   "metadata": {},
   "outputs": [],
   "source": [
    "# TODO: Ver si las categorias se influyen entre si\n",
    "# TODO: "
   ]
  },
  {
   "cell_type": "code",
   "execution_count": 3,
   "metadata": {},
   "outputs": [],
   "source": [
    "df = pd.read_csv('../data/Desafio Ds 2025 - Gen AI/series.csv')\n",
    "df = df.sort_values(by='DATE')"
   ]
  },
  {
   "cell_type": "code",
   "execution_count": 4,
   "metadata": {},
   "outputs": [
    {
     "name": "stdout",
     "output_type": "stream",
     "text": [
      "2018-09-24 00:00:00\n",
      "2021-11-12 00:00:00\n",
      "1145 days 00:00:00\n"
     ]
    }
   ],
   "source": [
    "df['DATE'] = pd.to_datetime(df['DATE'])\n",
    "print(df['DATE'].min())\n",
    "print(df['DATE'].max())\n",
    "print(df['DATE'].max() - df['DATE'].min())"
   ]
  },
  {
   "cell_type": "code",
   "execution_count": 5,
   "metadata": {},
   "outputs": [],
   "source": [
    "df['DAYWEEK'] = df['DATE'].dt.dayofweek\n",
    "df['MONTH'] = df['DATE'].dt.month\n",
    "df['DAYMONTH'] = df['DATE'].dt.day\n",
    "df['LAG_1'] = df['UNITS_SOLD'].shift(1)\n",
    "df['LAG_7'] = df['UNITS_SOLD'].shift(7)\n",
    "df['LAG_30'] = df['UNITS_SOLD'].shift(30)"
   ]
  },
  {
   "cell_type": "code",
   "execution_count": 6,
   "metadata": {},
   "outputs": [],
   "source": [
    "df_trial = df[df['CATEGORY'] == 'CATEG-1'].drop('CATEGORY', axis=1)"
   ]
  },
  {
   "cell_type": "markdown",
   "metadata": {},
   "source": [
    "# Checks"
   ]
  },
  {
   "cell_type": "code",
   "execution_count": 7,
   "metadata": {},
   "outputs": [
    {
     "data": {
      "text/html": [
       "<div>\n",
       "<style scoped>\n",
       "    .dataframe tbody tr th:only-of-type {\n",
       "        vertical-align: middle;\n",
       "    }\n",
       "\n",
       "    .dataframe tbody tr th {\n",
       "        vertical-align: top;\n",
       "    }\n",
       "\n",
       "    .dataframe thead th {\n",
       "        text-align: right;\n",
       "    }\n",
       "</style>\n",
       "<table border=\"1\" class=\"dataframe\">\n",
       "  <thead>\n",
       "    <tr style=\"text-align: right;\">\n",
       "      <th></th>\n",
       "      <th>DATE</th>\n",
       "      <th>UNITS_SOLD</th>\n",
       "      <th>DAYWEEK</th>\n",
       "      <th>MONTH</th>\n",
       "      <th>DAYMONTH</th>\n",
       "      <th>LAG_1</th>\n",
       "      <th>LAG_7</th>\n",
       "      <th>LAG_30</th>\n",
       "    </tr>\n",
       "  </thead>\n",
       "  <tbody>\n",
       "  </tbody>\n",
       "</table>\n",
       "</div>"
      ],
      "text/plain": [
       "Empty DataFrame\n",
       "Columns: [DATE, UNITS_SOLD, DAYWEEK, MONTH, DAYMONTH, LAG_1, LAG_7, LAG_30]\n",
       "Index: []"
      ]
     },
     "execution_count": 7,
     "metadata": {},
     "output_type": "execute_result"
    }
   ],
   "source": [
    "df_trial[df_trial['UNITS_SOLD'] < 0]"
   ]
  },
  {
   "cell_type": "code",
   "execution_count": 8,
   "metadata": {},
   "outputs": [
    {
     "data": {
      "text/html": [
       "<div>\n",
       "<style scoped>\n",
       "    .dataframe tbody tr th:only-of-type {\n",
       "        vertical-align: middle;\n",
       "    }\n",
       "\n",
       "    .dataframe tbody tr th {\n",
       "        vertical-align: top;\n",
       "    }\n",
       "\n",
       "    .dataframe thead th {\n",
       "        text-align: right;\n",
       "    }\n",
       "</style>\n",
       "<table border=\"1\" class=\"dataframe\">\n",
       "  <thead>\n",
       "    <tr style=\"text-align: right;\">\n",
       "      <th></th>\n",
       "      <th>UNITS_SOLD</th>\n",
       "      <th>DAYWEEK</th>\n",
       "      <th>MONTH</th>\n",
       "      <th>DAYMONTH</th>\n",
       "      <th>LAG_1</th>\n",
       "      <th>LAG_7</th>\n",
       "      <th>LAG_30</th>\n",
       "    </tr>\n",
       "    <tr>\n",
       "      <th>DATE</th>\n",
       "      <th></th>\n",
       "      <th></th>\n",
       "      <th></th>\n",
       "      <th></th>\n",
       "      <th></th>\n",
       "      <th></th>\n",
       "      <th></th>\n",
       "    </tr>\n",
       "  </thead>\n",
       "  <tbody>\n",
       "    <tr>\n",
       "      <th>2018-10-16</th>\n",
       "      <td>1</td>\n",
       "      <td>1</td>\n",
       "      <td>10</td>\n",
       "      <td>16</td>\n",
       "      <td>1.0</td>\n",
       "      <td>2.0</td>\n",
       "      <td>NaN</td>\n",
       "    </tr>\n",
       "    <tr>\n",
       "      <th>2019-06-11</th>\n",
       "      <td>27</td>\n",
       "      <td>1</td>\n",
       "      <td>6</td>\n",
       "      <td>11</td>\n",
       "      <td>0.0</td>\n",
       "      <td>0.0</td>\n",
       "      <td>2.0</td>\n",
       "    </tr>\n",
       "    <tr>\n",
       "      <th>2019-06-12</th>\n",
       "      <td>26</td>\n",
       "      <td>2</td>\n",
       "      <td>6</td>\n",
       "      <td>12</td>\n",
       "      <td>642.0</td>\n",
       "      <td>0.0</td>\n",
       "      <td>0.0</td>\n",
       "    </tr>\n",
       "    <tr>\n",
       "      <th>2019-06-13</th>\n",
       "      <td>24</td>\n",
       "      <td>3</td>\n",
       "      <td>6</td>\n",
       "      <td>13</td>\n",
       "      <td>561.0</td>\n",
       "      <td>15.0</td>\n",
       "      <td>2.0</td>\n",
       "    </tr>\n",
       "    <tr>\n",
       "      <th>2019-06-14</th>\n",
       "      <td>18</td>\n",
       "      <td>4</td>\n",
       "      <td>6</td>\n",
       "      <td>14</td>\n",
       "      <td>24.0</td>\n",
       "      <td>642.0</td>\n",
       "      <td>1.0</td>\n",
       "    </tr>\n",
       "    <tr>\n",
       "      <th>...</th>\n",
       "      <td>...</td>\n",
       "      <td>...</td>\n",
       "      <td>...</td>\n",
       "      <td>...</td>\n",
       "      <td>...</td>\n",
       "      <td>...</td>\n",
       "      <td>...</td>\n",
       "    </tr>\n",
       "    <tr>\n",
       "      <th>2021-11-08</th>\n",
       "      <td>63</td>\n",
       "      <td>0</td>\n",
       "      <td>11</td>\n",
       "      <td>8</td>\n",
       "      <td>2576.0</td>\n",
       "      <td>18.0</td>\n",
       "      <td>12.0</td>\n",
       "    </tr>\n",
       "    <tr>\n",
       "      <th>2021-11-09</th>\n",
       "      <td>65</td>\n",
       "      <td>1</td>\n",
       "      <td>11</td>\n",
       "      <td>9</td>\n",
       "      <td>13.0</td>\n",
       "      <td>46.0</td>\n",
       "      <td>1597.0</td>\n",
       "    </tr>\n",
       "    <tr>\n",
       "      <th>2021-11-10</th>\n",
       "      <td>189</td>\n",
       "      <td>2</td>\n",
       "      <td>11</td>\n",
       "      <td>10</td>\n",
       "      <td>18.0</td>\n",
       "      <td>2812.0</td>\n",
       "      <td>9.0</td>\n",
       "    </tr>\n",
       "    <tr>\n",
       "      <th>2021-11-11</th>\n",
       "      <td>194</td>\n",
       "      <td>3</td>\n",
       "      <td>11</td>\n",
       "      <td>11</td>\n",
       "      <td>6294.0</td>\n",
       "      <td>13.0</td>\n",
       "      <td>1979.0</td>\n",
       "    </tr>\n",
       "    <tr>\n",
       "      <th>2021-11-12</th>\n",
       "      <td>146</td>\n",
       "      <td>4</td>\n",
       "      <td>11</td>\n",
       "      <td>12</td>\n",
       "      <td>194.0</td>\n",
       "      <td>65.0</td>\n",
       "      <td>37.0</td>\n",
       "    </tr>\n",
       "  </tbody>\n",
       "</table>\n",
       "<p>887 rows × 7 columns</p>\n",
       "</div>"
      ],
      "text/plain": [
       "            UNITS_SOLD  DAYWEEK  MONTH  DAYMONTH   LAG_1   LAG_7  LAG_30\n",
       "DATE                                                                    \n",
       "2018-10-16           1        1     10        16     1.0     2.0     NaN\n",
       "2019-06-11          27        1      6        11     0.0     0.0     2.0\n",
       "2019-06-12          26        2      6        12   642.0     0.0     0.0\n",
       "2019-06-13          24        3      6        13   561.0    15.0     2.0\n",
       "2019-06-14          18        4      6        14    24.0   642.0     1.0\n",
       "...                ...      ...    ...       ...     ...     ...     ...\n",
       "2021-11-08          63        0     11         8  2576.0    18.0    12.0\n",
       "2021-11-09          65        1     11         9    13.0    46.0  1597.0\n",
       "2021-11-10         189        2     11        10    18.0  2812.0     9.0\n",
       "2021-11-11         194        3     11        11  6294.0    13.0  1979.0\n",
       "2021-11-12         146        4     11        12   194.0    65.0    37.0\n",
       "\n",
       "[887 rows x 7 columns]"
      ]
     },
     "execution_count": 8,
     "metadata": {},
     "output_type": "execute_result"
    }
   ],
   "source": [
    "df_trial = df_trial.set_index('DATE')\n",
    "df_trial"
   ]
  },
  {
   "cell_type": "code",
   "execution_count": 9,
   "metadata": {},
   "outputs": [
    {
     "data": {
      "text/html": [
       "<div>\n",
       "<style scoped>\n",
       "    .dataframe tbody tr th:only-of-type {\n",
       "        vertical-align: middle;\n",
       "    }\n",
       "\n",
       "    .dataframe tbody tr th {\n",
       "        vertical-align: top;\n",
       "    }\n",
       "\n",
       "    .dataframe thead th {\n",
       "        text-align: right;\n",
       "    }\n",
       "</style>\n",
       "<table border=\"1\" class=\"dataframe\">\n",
       "  <thead>\n",
       "    <tr style=\"text-align: right;\">\n",
       "      <th></th>\n",
       "      <th>UNITS_SOLD</th>\n",
       "      <th>DAYWEEK</th>\n",
       "      <th>MONTH</th>\n",
       "      <th>DAYMONTH</th>\n",
       "      <th>LAG_1</th>\n",
       "      <th>LAG_7</th>\n",
       "      <th>LAG_30</th>\n",
       "    </tr>\n",
       "    <tr>\n",
       "      <th>DATE</th>\n",
       "      <th></th>\n",
       "      <th></th>\n",
       "      <th></th>\n",
       "      <th></th>\n",
       "      <th></th>\n",
       "      <th></th>\n",
       "      <th></th>\n",
       "    </tr>\n",
       "  </thead>\n",
       "  <tbody>\n",
       "    <tr>\n",
       "      <th>2019-06-12</th>\n",
       "      <td>26</td>\n",
       "      <td>2</td>\n",
       "      <td>6</td>\n",
       "      <td>12</td>\n",
       "      <td>642.0</td>\n",
       "      <td>0.0</td>\n",
       "      <td>0.0</td>\n",
       "    </tr>\n",
       "    <tr>\n",
       "      <th>2019-06-13</th>\n",
       "      <td>24</td>\n",
       "      <td>3</td>\n",
       "      <td>6</td>\n",
       "      <td>13</td>\n",
       "      <td>561.0</td>\n",
       "      <td>15.0</td>\n",
       "      <td>2.0</td>\n",
       "    </tr>\n",
       "    <tr>\n",
       "      <th>2019-06-14</th>\n",
       "      <td>18</td>\n",
       "      <td>4</td>\n",
       "      <td>6</td>\n",
       "      <td>14</td>\n",
       "      <td>24.0</td>\n",
       "      <td>642.0</td>\n",
       "      <td>1.0</td>\n",
       "    </tr>\n",
       "    <tr>\n",
       "      <th>2019-06-15</th>\n",
       "      <td>15</td>\n",
       "      <td>5</td>\n",
       "      <td>6</td>\n",
       "      <td>15</td>\n",
       "      <td>520.0</td>\n",
       "      <td>679.0</td>\n",
       "      <td>1.0</td>\n",
       "    </tr>\n",
       "    <tr>\n",
       "      <th>2019-06-16</th>\n",
       "      <td>11</td>\n",
       "      <td>6</td>\n",
       "      <td>6</td>\n",
       "      <td>16</td>\n",
       "      <td>7.0</td>\n",
       "      <td>18.0</td>\n",
       "      <td>1.0</td>\n",
       "    </tr>\n",
       "    <tr>\n",
       "      <th>...</th>\n",
       "      <td>...</td>\n",
       "      <td>...</td>\n",
       "      <td>...</td>\n",
       "      <td>...</td>\n",
       "      <td>...</td>\n",
       "      <td>...</td>\n",
       "      <td>...</td>\n",
       "    </tr>\n",
       "    <tr>\n",
       "      <th>2021-11-08</th>\n",
       "      <td>63</td>\n",
       "      <td>0</td>\n",
       "      <td>11</td>\n",
       "      <td>8</td>\n",
       "      <td>2576.0</td>\n",
       "      <td>18.0</td>\n",
       "      <td>12.0</td>\n",
       "    </tr>\n",
       "    <tr>\n",
       "      <th>2021-11-09</th>\n",
       "      <td>65</td>\n",
       "      <td>1</td>\n",
       "      <td>11</td>\n",
       "      <td>9</td>\n",
       "      <td>13.0</td>\n",
       "      <td>46.0</td>\n",
       "      <td>1597.0</td>\n",
       "    </tr>\n",
       "    <tr>\n",
       "      <th>2021-11-10</th>\n",
       "      <td>189</td>\n",
       "      <td>2</td>\n",
       "      <td>11</td>\n",
       "      <td>10</td>\n",
       "      <td>18.0</td>\n",
       "      <td>2812.0</td>\n",
       "      <td>9.0</td>\n",
       "    </tr>\n",
       "    <tr>\n",
       "      <th>2021-11-11</th>\n",
       "      <td>194</td>\n",
       "      <td>3</td>\n",
       "      <td>11</td>\n",
       "      <td>11</td>\n",
       "      <td>6294.0</td>\n",
       "      <td>13.0</td>\n",
       "      <td>1979.0</td>\n",
       "    </tr>\n",
       "    <tr>\n",
       "      <th>2021-11-12</th>\n",
       "      <td>146</td>\n",
       "      <td>4</td>\n",
       "      <td>11</td>\n",
       "      <td>12</td>\n",
       "      <td>194.0</td>\n",
       "      <td>65.0</td>\n",
       "      <td>37.0</td>\n",
       "    </tr>\n",
       "  </tbody>\n",
       "</table>\n",
       "<p>885 rows × 7 columns</p>\n",
       "</div>"
      ],
      "text/plain": [
       "            UNITS_SOLD  DAYWEEK  MONTH  DAYMONTH   LAG_1   LAG_7  LAG_30\n",
       "DATE                                                                    \n",
       "2019-06-12          26        2      6        12   642.0     0.0     0.0\n",
       "2019-06-13          24        3      6        13   561.0    15.0     2.0\n",
       "2019-06-14          18        4      6        14    24.0   642.0     1.0\n",
       "2019-06-15          15        5      6        15   520.0   679.0     1.0\n",
       "2019-06-16          11        6      6        16     7.0    18.0     1.0\n",
       "...                ...      ...    ...       ...     ...     ...     ...\n",
       "2021-11-08          63        0     11         8  2576.0    18.0    12.0\n",
       "2021-11-09          65        1     11         9    13.0    46.0  1597.0\n",
       "2021-11-10         189        2     11        10    18.0  2812.0     9.0\n",
       "2021-11-11         194        3     11        11  6294.0    13.0  1979.0\n",
       "2021-11-12         146        4     11        12   194.0    65.0    37.0\n",
       "\n",
       "[885 rows x 7 columns]"
      ]
     },
     "execution_count": 9,
     "metadata": {},
     "output_type": "execute_result"
    }
   ],
   "source": [
    "df_trial.index = pd.to_datetime(df_trial.index)\n",
    "date_diff = df_trial.index.to_series().diff().dt.days\n",
    "df_trial = df_trial[(date_diff == 1)]\n",
    "df_trial"
   ]
  },
  {
   "cell_type": "markdown",
   "metadata": {},
   "source": [
    "# Modelado"
   ]
  },
  {
   "cell_type": "code",
   "execution_count": 10,
   "metadata": {},
   "outputs": [],
   "source": [
    "original_data_train = df_trial[(df_trial.index < '2021-08-12') & (df_trial.index >= '2019-06-12')]\n",
    "original_data_val = df_trial[(df_trial.index < '2021-10-20') & (df_trial.index >= '2021-08-12')]\n",
    "original_data_test = df_trial[df_trial.index >= '2021-10-20']"
   ]
  },
  {
   "cell_type": "code",
   "execution_count": 11,
   "metadata": {},
   "outputs": [],
   "source": [
    "sequence_length = 1\n",
    "ahead = 21\n",
    "batch_size = 16"
   ]
  },
  {
   "cell_type": "code",
   "execution_count": 12,
   "metadata": {},
   "outputs": [
    {
     "data": {
      "text/html": [
       "<div>\n",
       "<style scoped>\n",
       "    .dataframe tbody tr th:only-of-type {\n",
       "        vertical-align: middle;\n",
       "    }\n",
       "\n",
       "    .dataframe tbody tr th {\n",
       "        vertical-align: top;\n",
       "    }\n",
       "\n",
       "    .dataframe thead th {\n",
       "        text-align: right;\n",
       "    }\n",
       "</style>\n",
       "<table border=\"1\" class=\"dataframe\">\n",
       "  <thead>\n",
       "    <tr style=\"text-align: right;\">\n",
       "      <th></th>\n",
       "      <th>UNITS_SOLD</th>\n",
       "      <th>DAYWEEK</th>\n",
       "      <th>MONTH</th>\n",
       "      <th>DAYMONTH</th>\n",
       "      <th>LAG_1</th>\n",
       "      <th>LAG_7</th>\n",
       "      <th>LAG_30</th>\n",
       "    </tr>\n",
       "    <tr>\n",
       "      <th>DATE</th>\n",
       "      <th></th>\n",
       "      <th></th>\n",
       "      <th></th>\n",
       "      <th></th>\n",
       "      <th></th>\n",
       "      <th></th>\n",
       "      <th></th>\n",
       "    </tr>\n",
       "  </thead>\n",
       "  <tbody>\n",
       "    <tr>\n",
       "      <th>2019-06-12</th>\n",
       "      <td>26</td>\n",
       "      <td>2</td>\n",
       "      <td>6</td>\n",
       "      <td>12</td>\n",
       "      <td>642.0</td>\n",
       "      <td>0.0</td>\n",
       "      <td>0.0</td>\n",
       "    </tr>\n",
       "    <tr>\n",
       "      <th>2019-06-13</th>\n",
       "      <td>24</td>\n",
       "      <td>3</td>\n",
       "      <td>6</td>\n",
       "      <td>13</td>\n",
       "      <td>561.0</td>\n",
       "      <td>15.0</td>\n",
       "      <td>2.0</td>\n",
       "    </tr>\n",
       "    <tr>\n",
       "      <th>2019-06-14</th>\n",
       "      <td>18</td>\n",
       "      <td>4</td>\n",
       "      <td>6</td>\n",
       "      <td>14</td>\n",
       "      <td>24.0</td>\n",
       "      <td>642.0</td>\n",
       "      <td>1.0</td>\n",
       "    </tr>\n",
       "    <tr>\n",
       "      <th>2019-06-15</th>\n",
       "      <td>15</td>\n",
       "      <td>5</td>\n",
       "      <td>6</td>\n",
       "      <td>15</td>\n",
       "      <td>520.0</td>\n",
       "      <td>679.0</td>\n",
       "      <td>1.0</td>\n",
       "    </tr>\n",
       "    <tr>\n",
       "      <th>2019-06-16</th>\n",
       "      <td>11</td>\n",
       "      <td>6</td>\n",
       "      <td>6</td>\n",
       "      <td>16</td>\n",
       "      <td>7.0</td>\n",
       "      <td>18.0</td>\n",
       "      <td>1.0</td>\n",
       "    </tr>\n",
       "  </tbody>\n",
       "</table>\n",
       "</div>"
      ],
      "text/plain": [
       "            UNITS_SOLD  DAYWEEK  MONTH  DAYMONTH  LAG_1  LAG_7  LAG_30\n",
       "DATE                                                                  \n",
       "2019-06-12          26        2      6        12  642.0    0.0     0.0\n",
       "2019-06-13          24        3      6        13  561.0   15.0     2.0\n",
       "2019-06-14          18        4      6        14   24.0  642.0     1.0\n",
       "2019-06-15          15        5      6        15  520.0  679.0     1.0\n",
       "2019-06-16          11        6      6        16    7.0   18.0     1.0"
      ]
     },
     "execution_count": 12,
     "metadata": {},
     "output_type": "execute_result"
    }
   ],
   "source": [
    "original_data_train.head()"
   ]
  },
  {
   "cell_type": "code",
   "execution_count": 13,
   "metadata": {},
   "outputs": [
    {
     "name": "stderr",
     "output_type": "stream",
     "text": [
      "WARNING: All log messages before absl::InitializeLog() is called are written to STDERR\n",
      "I0000 00:00:1730721293.705459    1549 cuda_executor.cc:1001] could not open file to read NUMA node: /sys/bus/pci/devices/0000:01:00.0/numa_node\n",
      "Your kernel may have been built without NUMA support.\n",
      "2024-11-04 08:54:53.811257: W tensorflow/core/common_runtime/gpu/gpu_device.cc:2343] Cannot dlopen some GPU libraries. Please make sure the missing libraries mentioned above are installed properly if you would like to use GPU. Follow the guide at https://www.tensorflow.org/install/gpu for how to download and setup the required libraries for your platform.\n",
      "Skipping registering GPU devices...\n"
     ]
    }
   ],
   "source": [
    "data_train = set_dataset(original_data_train, seq_length=sequence_length, ahead=ahead, batch_size=batch_size, shuffle=False)\n",
    "data_val = set_dataset(original_data_val, seq_length=sequence_length, ahead=ahead)"
   ]
  },
  {
   "cell_type": "code",
   "execution_count": 26,
   "metadata": {},
   "outputs": [
    {
     "data": {
      "image/png": "[encoded data removed]",
      "text/plain": [
       "<Figure size 640x480 with 4 Axes>"
      ]
     },
     "metadata": {},
     "output_type": "display_data"
    }
   ],
   "source": [
    "decomposition = sm.tsa.seasonal_decompose(original_data_train['UNITS_SOLD'][:30], model='additive')\n",
    "fig = decomposition.plot()\n",
    "plt.show()"
   ]
  },
  {
   "cell_type": "code",
   "execution_count": 20,
   "metadata": {},
   "outputs": [
    {
     "name": "stderr",
     "output_type": "stream",
     "text": [
      "/home/nicomore/miniconda3/envs/tf-wsl/lib/python3.9/site-packages/statsmodels/tsa/base/tsa_model.py:473: ValueWarning: No frequency information was provided, so inferred frequency D will be used.\n",
      "  self._init_dates(dates, freq)\n",
      "/home/nicomore/miniconda3/envs/tf-wsl/lib/python3.9/site-packages/statsmodels/tsa/base/tsa_model.py:473: ValueWarning: No frequency information was provided, so inferred frequency D will be used.\n",
      "  self._init_dates(dates, freq)\n",
      " This problem is unconstrained.\n"
     ]
    },
    {
     "name": "stdout",
     "output_type": "stream",
     "text": [
      "RUNNING THE L-BFGS-B CODE\n",
      "\n",
      "           * * *\n",
      "\n",
      "Machine precision = 2.220D-16\n",
      " N =            5     M =           10\n",
      "\n",
      "At X0         0 variables are exactly at the bounds\n",
      "\n",
      "At iterate    0    f=  4.07884D+00    |proj g|=  4.64923D-02\n",
      "\n",
      "At iterate    5    f=  4.01376D+00    |proj g|=  8.47681D-02\n",
      "\n",
      "At iterate   10    f=  3.96550D+00    |proj g|=  3.04911D-03\n",
      "\n",
      "At iterate   15    f=  3.96071D+00    |proj g|=  2.00367D-02\n",
      "\n",
      "At iterate   20    f=  3.95843D+00    |proj g|=  1.32231D-03\n",
      "\n",
      "At iterate   25    f=  3.95842D+00    |proj g|=  3.84944D-04\n",
      "\n",
      "At iterate   30    f=  3.95840D+00    |proj g|=  3.11818D-03\n",
      "\n",
      "At iterate   35    f=  3.95833D+00    |proj g|=  1.14898D-03\n",
      "\n",
      "At iterate   40    f=  3.95831D+00    |proj g|=  6.91490D-05\n",
      "\n",
      "At iterate   45    f=  3.95831D+00    |proj g|=  8.20217D-05\n",
      "\n",
      "           * * *\n",
      "\n",
      "Tit   = total number of iterations\n",
      "Tnf   = total number of function evaluations\n",
      "Tnint = total number of segments explored during Cauchy searches\n",
      "Skip  = number of BFGS updates skipped\n",
      "Nact  = number of active bounds at final generalized Cauchy point\n",
      "Projg = norm of the final projected gradient\n",
      "F     = final function value\n",
      "\n",
      "           * * *\n",
      "\n",
      "   N    Tit     Tnf  Tnint  Skip  Nact     Projg        F\n",
      "    5     49     63      1     0     0   1.412D-04   3.958D+00\n",
      "  F =   3.9583064623621125     \n",
      "\n",
      "CONVERGENCE: REL_REDUCTION_OF_F_<=_FACTR*EPSMCH             \n"
     ]
    },
    {
     "data": {
      "text/html": [
       "<table class=\"simpletable\">\n",
       "<caption>SARIMAX Results</caption>\n",
       "<tr>\n",
       "  <th>Dep. Variable:</th>            <td>UNITS_SOLD</td>           <th>  No. Observations:  </th>    <td>792</td>   \n",
       "</tr>\n",
       "<tr>\n",
       "  <th>Model:</th>           <td>SARIMAX(1, 1, 1)x(1, 1, 1, 7)</td> <th>  Log Likelihood     </th> <td>-3134.979</td>\n",
       "</tr>\n",
       "<tr>\n",
       "  <th>Date:</th>                  <td>Mon, 04 Nov 2024</td>        <th>  AIC                </th> <td>6279.957</td> \n",
       "</tr>\n",
       "<tr>\n",
       "  <th>Time:</th>                      <td>10:49:35</td>            <th>  BIC                </th> <td>6303.279</td> \n",
       "</tr>\n",
       "<tr>\n",
       "  <th>Sample:</th>                   <td>06-12-2019</td>           <th>  HQIC               </th> <td>6288.925</td> \n",
       "</tr>\n",
       "<tr>\n",
       "  <th></th>                         <td>- 08-11-2021</td>          <th>                     </th>     <td> </td>    \n",
       "</tr>\n",
       "<tr>\n",
       "  <th>Covariance Type:</th>              <td>opg</td>              <th>                     </th>     <td> </td>    \n",
       "</tr>\n",
       "</table>\n",
       "<table class=\"simpletable\">\n",
       "<tr>\n",
       "     <td></td>        <th>coef</th>     <th>std err</th>      <th>z</th>      <th>P>|z|</th>  <th>[0.025</th>    <th>0.975]</th>  \n",
       "</tr>\n",
       "<tr>\n",
       "  <th>ar.L1</th>   <td>    0.7639</td> <td>    0.030</td> <td>   25.176</td> <td> 0.000</td> <td>    0.704</td> <td>    0.823</td>\n",
       "</tr>\n",
       "<tr>\n",
       "  <th>ma.L1</th>   <td>   -0.9308</td> <td>    0.021</td> <td>  -44.311</td> <td> 0.000</td> <td>   -0.972</td> <td>   -0.890</td>\n",
       "</tr>\n",
       "<tr>\n",
       "  <th>ar.S.L7</th> <td>    0.0718</td> <td>    0.031</td> <td>    2.331</td> <td> 0.020</td> <td>    0.011</td> <td>    0.132</td>\n",
       "</tr>\n",
       "<tr>\n",
       "  <th>ma.S.L7</th> <td>   -0.9998</td> <td>    1.333</td> <td>   -0.750</td> <td> 0.453</td> <td>   -3.612</td> <td>    1.613</td>\n",
       "</tr>\n",
       "<tr>\n",
       "  <th>sigma2</th>  <td>  166.7131</td> <td>  220.459</td> <td>    0.756</td> <td> 0.450</td> <td> -265.379</td> <td>  598.805</td>\n",
       "</tr>\n",
       "</table>\n",
       "<table class=\"simpletable\">\n",
       "<tr>\n",
       "  <th>Ljung-Box (L1) (Q):</th>     <td>4.21</td> <th>  Jarque-Bera (JB):  </th> <td>28821.48</td>\n",
       "</tr>\n",
       "<tr>\n",
       "  <th>Prob(Q):</th>                <td>0.04</td> <th>  Prob(JB):          </th>   <td>0.00</td>  \n",
       "</tr>\n",
       "<tr>\n",
       "  <th>Heteroskedasticity (H):</th> <td>0.84</td> <th>  Skew:              </th>   <td>1.71</td>  \n",
       "</tr>\n",
       "<tr>\n",
       "  <th>Prob(H) (two-sided):</th>    <td>0.16</td> <th>  Kurtosis:          </th>   <td>32.50</td> \n",
       "</tr>\n",
       "</table><br/><br/>Warnings:<br/>[1] Covariance matrix calculated using the outer product of gradients (complex-step)."
      ],
      "text/latex": [
       "\\begin{center}\n",
       "\\begin{tabular}{lclc}\n",
       "\\toprule\n",
       "\\textbf{Dep. Variable:}          &          UNITS\\_SOLD          & \\textbf{  No. Observations:  } &    792      \\\\\n",
       "\\textbf{Model:}                  & SARIMAX(1, 1, 1)x(1, 1, 1, 7) & \\textbf{  Log Likelihood     } & -3134.979   \\\\\n",
       "\\textbf{Date:}                   &        Mon, 04 Nov 2024       & \\textbf{  AIC                } &  6279.957   \\\\\n",
       "\\textbf{Time:}                   &            10:49:35           & \\textbf{  BIC                } &  6303.279   \\\\\n",
       "\\textbf{Sample:}                 &           06-12-2019          & \\textbf{  HQIC               } &  6288.925   \\\\\n",
       "\\textbf{}                        &          - 08-11-2021         & \\textbf{                     } &             \\\\\n",
       "\\textbf{Covariance Type:}        &              opg              & \\textbf{                     } &             \\\\\n",
       "\\bottomrule\n",
       "\\end{tabular}\n",
       "\\begin{tabular}{lcccccc}\n",
       "                 & \\textbf{coef} & \\textbf{std err} & \\textbf{z} & \\textbf{P$> |$z$|$} & \\textbf{[0.025} & \\textbf{0.975]}  \\\\\n",
       "\\midrule\n",
       "\\textbf{ar.L1}   &       0.7639  &        0.030     &    25.176  &         0.000        &        0.704    &        0.823     \\\\\n",
       "\\textbf{ma.L1}   &      -0.9308  &        0.021     &   -44.311  &         0.000        &       -0.972    &       -0.890     \\\\\n",
       "\\textbf{ar.S.L7} &       0.0718  &        0.031     &     2.331  &         0.020        &        0.011    &        0.132     \\\\\n",
       "\\textbf{ma.S.L7} &      -0.9998  &        1.333     &    -0.750  &         0.453        &       -3.612    &        1.613     \\\\\n",
       "\\textbf{sigma2}  &     166.7131  &      220.459     &     0.756  &         0.450        &     -265.379    &      598.805     \\\\\n",
       "\\bottomrule\n",
       "\\end{tabular}\n",
       "\\begin{tabular}{lclc}\n",
       "\\textbf{Ljung-Box (L1) (Q):}     & 4.21 & \\textbf{  Jarque-Bera (JB):  } & 28821.48  \\\\\n",
       "\\textbf{Prob(Q):}                & 0.04 & \\textbf{  Prob(JB):          } &   0.00    \\\\\n",
       "\\textbf{Heteroskedasticity (H):} & 0.84 & \\textbf{  Skew:              } &   1.71    \\\\\n",
       "\\textbf{Prob(H) (two-sided):}    & 0.16 & \\textbf{  Kurtosis:          } &  32.50    \\\\\n",
       "\\bottomrule\n",
       "\\end{tabular}\n",
       "%\\caption{SARIMAX Results}\n",
       "\\end{center}\n",
       "\n",
       "Warnings: \\newline\n",
       " [1] Covariance matrix calculated using the outer product of gradients (complex-step)."
      ],
      "text/plain": [
       "<class 'statsmodels.iolib.summary.Summary'>\n",
       "\"\"\"\n",
       "                                     SARIMAX Results                                     \n",
       "=========================================================================================\n",
       "Dep. Variable:                        UNITS_SOLD   No. Observations:                  792\n",
       "Model:             SARIMAX(1, 1, 1)x(1, 1, 1, 7)   Log Likelihood               -3134.979\n",
       "Date:                           Mon, 04 Nov 2024   AIC                           6279.957\n",
       "Time:                                   10:49:35   BIC                           6303.279\n",
       "Sample:                               06-12-2019   HQIC                          6288.925\n",
       "                                    - 08-11-2021                                         \n",
       "Covariance Type:                             opg                                         \n",
       "==============================================================================\n",
       "                 coef    std err          z      P>|z|      [0.025      0.975]\n",
       "------------------------------------------------------------------------------\n",
       "ar.L1          0.7639      0.030     25.176      0.000       0.704       0.823\n",
       "ma.L1         -0.9308      0.021    -44.311      0.000      -0.972      -0.890\n",
       "ar.S.L7        0.0718      0.031      2.331      0.020       0.011       0.132\n",
       "ma.S.L7       -0.9998      1.333     -0.750      0.453      -3.612       1.613\n",
       "sigma2       166.7131    220.459      0.756      0.450    -265.379     598.805\n",
       "===================================================================================\n",
       "Ljung-Box (L1) (Q):                   4.21   Jarque-Bera (JB):             28821.48\n",
       "Prob(Q):                              0.04   Prob(JB):                         0.00\n",
       "Heteroskedasticity (H):               0.84   Skew:                             1.71\n",
       "Prob(H) (two-sided):                  0.16   Kurtosis:                        32.50\n",
       "===================================================================================\n",
       "\n",
       "Warnings:\n",
       "[1] Covariance matrix calculated using the outer product of gradients (complex-step).\n",
       "\"\"\""
      ]
     },
     "execution_count": 20,
     "metadata": {},
     "output_type": "execute_result"
    }
   ],
   "source": [
    "sarima_df = original_data_train['UNITS_SOLD']\n",
    "model = SARIMAX(sarima_df, order=(1, 1, 1), seasonal_order=(1, 1, 1, 7))\n",
    "sarima_fit = model.fit()\n",
    "\n",
    "sarima_fit.summary()"
   ]
  },
  {
   "cell_type": "code",
   "execution_count": 21,
   "metadata": {},
   "outputs": [
    {
     "data": {
      "text/plain": [
       "7.927248259178782"
      ]
     },
     "execution_count": 21,
     "metadata": {},
     "output_type": "execute_result"
    }
   ],
   "source": [
    "forecast_val_mean = sarima_fit.get_forecast(steps=len(original_data_val)).predicted_mean\n",
    "\n",
    "mae = mean_absolute_error(original_data_val['UNITS_SOLD'], forecast_val_mean)\n",
    "mae"
   ]
  },
  {
   "cell_type": "code",
   "execution_count": 17,
   "metadata": {},
   "outputs": [
    {
     "name": "stdout",
     "output_type": "stream",
     "text": [
      "Trial 5 Complete [00h 06m 27s]\n",
      "val_mae: 6.041439056396484\n",
      "\n",
      "Best val_mae So Far: 5.995699405670166\n",
      "Total elapsed time: 00h 42m 13s\n",
      "{'model_length': 5, 'size': 250, 'dropout_percentage': 0.30000000000000004, 'chosen_optimizer': 'nadam', 'learning_rate': 5.287479707924124e-05, 'decay': 0.4285424360064111}\n"
     ]
    },
    {
     "name": "stderr",
     "output_type": "stream",
     "text": [
      "/home/nicomore/miniconda3/envs/tf-wsl/lib/python3.9/site-packages/keras/src/saving/saving_lib.py:713: UserWarning: Skipping variable loading for optimizer 'nadam', because it has 2 variables whereas the saved optimizer has 37 variables. \n",
      "  saveable.load_own_variables(weights_store.get(inner_path))\n"
     ]
    }
   ],
   "source": [
    "\"\"\"\n",
    "trials = 5\n",
    "tuner2 = kt.BayesianOptimization(hypermodel=make_rnn, objective='val_mae', max_trials=trials, max_retries_per_trial=0, max_consecutive_failed_trials=trials, overwrite=True, project_name='RNN', seed=47)\n",
    "\n",
    "rlr2 = tf.keras.callbacks.ReduceLROnPlateau(monitor='val_loss', factor=0.1, patience=10, min_lr=0.00001)\n",
    "es2 = tf.keras.callbacks.EarlyStopping(monitor='val_mae',patience=20, restore_best_weights=True)\n",
    "\n",
    "tuner2.search(data_train_2, batch_size=batch_size, validation_data=(data_val), callbacks=[es2, rlr2], epochs=100000)\n",
    "\n",
    "bestmodel2 = tuner2.get_best_models(num_models=1)[0]\n",
    "best_hp2 = tuner2.get_best_hyperparameters()[0]\n",
    "\n",
    "print(best_hp2.values)\n",
    "\"\"\""
   ]
  },
  {
   "cell_type": "code",
   "execution_count": 19,
   "metadata": {},
   "outputs": [
    {
     "name": "stdout",
     "output_type": "stream",
     "text": [
      "Trial 20 Complete [00h 02m 58s]\n",
      "val_mae: 5.9726996421813965\n",
      "\n",
      "Best val_mae So Far: 5.972541332244873\n",
      "Total elapsed time: 00h 36m 24s\n",
      "{'model_length': 7, 'size': 65, 'dropout_percentage': 0.2, 'chosen_optimizer': 'nadam', 'learning_rate': 5.449770094577858e-05, 'decay': 0.33350097698667636}\n"
     ]
    },
    {
     "name": "stderr",
     "output_type": "stream",
     "text": [
      "/home/nicomore/miniconda3/envs/tf-wsl/lib/python3.9/site-packages/keras/src/saving/saving_lib.py:713: UserWarning: Skipping variable loading for optimizer 'nadam', because it has 2 variables whereas the saved optimizer has 49 variables. \n",
      "  saveable.load_own_variables(weights_store.get(inner_path))\n"
     ]
    }
   ],
   "source": [
    "trials = 100\n",
    "tuner = kt.BayesianOptimization(hypermodel=make_rnn, objective='val_mae', max_trials=trials, max_retries_per_trial=0, max_consecutive_failed_trials=trials, overwrite=True, project_name='RNN', seed=47)\n",
    "\n",
    "rlr = tf.keras.callbacks.ReduceLROnPlateau(monitor='val_loss', factor=0.1, patience=10, min_lr=0.00001)\n",
    "es = tf.keras.callbacks.EarlyStopping(monitor='val_mae',patience=30, restore_best_weights=True)\n",
    "\n",
    "tuner.search(data_train, batch_size=batch_size, validation_data=(data_val), callbacks=[es, rlr], epochs=10000)\n",
    "\n",
    "bestmodel = tuner.get_best_models(num_models=1)[0]\n",
    "best_hp = tuner.get_best_hyperparameters()[0]\n",
    "\n",
    "print(best_hp.values)"
   ]
  },
  {
   "cell_type": "code",
   "execution_count": 38,
   "metadata": {},
   "outputs": [
    {
     "name": "stdout",
     "output_type": "stream",
     "text": [
      "\u001b[1m1/1\u001b[0m \u001b[32m━━━━━━━━━━━━━━━━━━━━\u001b[0m\u001b[37m\u001b[0m \u001b[1m0s\u001b[0m 11ms/step\n"
     ]
    },
    {
     "data": {
      "text/plain": [
       "array([41.200714, 41.195663, 40.97749 , 40.823895, 41.235058, 41.48063 ,\n",
       "       41.118935, 41.289253, 41.23246 , 41.456863, 41.034588, 41.45377 ,\n",
       "       41.76634 , 42.02383 , 41.440514, 41.95034 , 41.98299 , 42.166058,\n",
       "       41.8528  , 41.84627 , 42.063618], dtype=float32)"
      ]
     },
     "execution_count": 38,
     "metadata": {},
     "output_type": "execute_result"
    }
   ],
   "source": [
    "y_pred = bestmodel.predict(original_data_test.to_numpy()[np.newaxis, :1])[0, -1]\n",
    "y_pred"
   ]
  },
  {
   "cell_type": "code",
   "execution_count": 40,
   "metadata": {},
   "outputs": [
    {
     "data": {
      "text/plain": [
       "10.903626441699155"
      ]
     },
     "execution_count": 40,
     "metadata": {},
     "output_type": "execute_result"
    }
   ],
   "source": [
    "mean_absolute_error(original_data_test['UNITS_SOLD'][:21], sarima_fit.get_forecast(steps=21).predicted_mean)"
   ]
  },
  {
   "cell_type": "code",
   "execution_count": 39,
   "metadata": {},
   "outputs": [
    {
     "data": {
      "text/plain": [
       "8.317757197788783"
      ]
     },
     "execution_count": 39,
     "metadata": {},
     "output_type": "execute_result"
    }
   ],
   "source": [
    "mean_absolute_error(original_data_test['UNITS_SOLD'][:21], y_pred)"
   ]
  }
 ],
 "metadata": {
  "kernelspec": {
   "display_name": "tf-wsl",
   "language": "python",
   "name": "python3"
  },
  "language_info": {
   "codemirror_mode": {
    "name": "ipython",
    "version": 3
   },
   "file_extension": ".py",
   "mimetype": "text/x-python",
   "name": "python",
   "nbconvert_exporter": "python",
   "pygments_lexer": "ipython3",
   "version": "3.9.19"
  }
 },
 "nbformat": 4,
 "nbformat_minor": 2
}
