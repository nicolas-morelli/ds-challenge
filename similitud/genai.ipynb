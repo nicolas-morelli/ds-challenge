{
 "cells": [
  {
   "cell_type": "code",
   "execution_count": 10,
   "metadata": {},
   "outputs": [],
   "source": [
    "import torch\n",
    "import requests\n",
    "from transformers import AutoTokenizer, AutoModel\n",
    "from sentence_transformers import SentenceTransformer, util"
   ]
  },
  {
   "cell_type": "code",
   "execution_count": 90,
   "metadata": {},
   "outputs": [],
   "source": [
    "def get_gen_ai_response(prompt1, prompt2):\n",
    "    model = SentenceTransformer('sentence-transformers/all-mpnet-base-v2')\n",
    "\n",
    "    description1 = prompt1\n",
    "    description2 = prompt2\n",
    "\n",
    "    embedding1 = model.encode(description1, convert_to_tensor=True)\n",
    "    embedding2 = model.encode(description2, convert_to_tensor=True)\n",
    "\n",
    "    similarity = util.cos_sim(embedding1, embedding2).item()\n",
    "\n",
    "    if similarity > 0.9:\n",
    "        classification = 'Identical'\n",
    "    elif similarity > 0.5:\n",
    "        classification = 'Similar'\n",
    "    else:\n",
    "        classification = 'Non-related'\n",
    "\n",
    "    return similarity, classification"
   ]
  },
  {
   "cell_type": "code",
   "execution_count": 91,
   "metadata": {},
   "outputs": [],
   "source": [
    "def parse_product(json):\n",
    "    return json['title'] + ' con precio ' + str(json['base_price']) + json['currency_id'] + ' en condicion ' + json['condition'] + ' del dominio ' + json['domain_id'] + ' con los siguientes atributos: ' + ', '.join(list(map(lambda x: x['name'] + ': ' + x['value_name'], json['attributes'])))"
   ]
  },
  {
   "cell_type": "code",
   "execution_count": 92,
   "metadata": {},
   "outputs": [],
   "source": [
    "def determine_similarity_items(first_id, second_id):\n",
    "\n",
    "    first_product = requests.get(f'https://api.mercadolibre.com/items/{first_id}').json()\n",
    "    second_product = requests.get(f'https://api.mercadolibre.com/items/{second_id}').json()\n",
    "\n",
    "    first_product_detail = parse_product(first_product)\n",
    "    second_product_detail = parse_product(second_product)\n",
    "\n",
    "    print(first_product_detail)\n",
    "    print(second_product_detail)\n",
    "\n",
    "    _, classification = get_gen_ai_response(first_product_detail, second_product_detail)\n",
    "\n",
    "    print(_)\n",
    "\n",
    "    return classification\n"
   ]
  },
  {
   "cell_type": "code",
   "execution_count": 93,
   "metadata": {},
   "outputs": [
    {
     "name": "stdout",
     "output_type": "stream",
     "text": [
      "Perfume Masculino Natura Beijo De Humor 75ml Amaderado Moder con precio 29992.5ARS en condicion new del dominio MLA-PERFUMES con los siguientes atributos: Unidades por envase: 1, Número de legajo resolución 155/98: 312437, Formato de aplicación: Spray, Marca: Natura, Género: Hombre, Es recargable: No, Condición del ítem: Nuevo, Línea: Humor, Familia olfativa: Amaderado moderado, Nombre del perfume: Beijo de Humor, Tipo de perfume: Deo colonia, Características del producto: Frágil,Contiene líquido,Con vencimiento, Embalaje del envío: Bolsa, Versión: MASCULINO 75ML\n",
      "David Beckham Classic Blue Edt 100 Ml con precio 34177ARS en condicion new del dominio MLA-PERFUMES con los siguientes atributos: Número de legajo resolución 155/98: 2350, Formato de aplicación: Spray, Marca: David Beckham, Género: Hombre, Código universal de producto: 3616303461980,03616303461980, Es libre de crueldad: No, Es recargable: No, Es vegano: No, Condición del ítem: Nuevo, Línea: Classic Blue, Familia olfativa: Floral especiado, País de origen: Álbumes de música, Altura del paquete: 5.8 cm, Largo del paquete: 13.2 cm, Peso del paquete: 320 g, Ancho del paquete: 6.2 cm, Nombre del perfume: David Beckham Classic Blue, Tipo de perfume: Eau de toilette, Características del producto: Con vencimiento,Contiene líquido, Año de lanzamiento: 2016, SKU: 1237667, Embalaje del envío: Bolsa, Volumen de la unidad: 100 mL, Versión: Blue\n",
      "0.7738707065582275\n"
     ]
    },
    {
     "data": {
      "text/plain": [
       "'Similar'"
      ]
     },
     "execution_count": 93,
     "metadata": {},
     "output_type": "execute_result"
    }
   ],
   "source": [
    "determine_similarity_items('MLA1149401082', 'MLA1447421381')"
   ]
  },
  {
   "cell_type": "markdown",
   "metadata": {},
   "source": [
    "Se podria mejorar el codigo sustancialmente agregando comparaciones por imagenes con algun modelo de computer vision y los pixeles de las imagenes provistas."
   ]
  }
 ],
 "metadata": {
  "kernelspec": {
   "display_name": "tf-wsl",
   "language": "python",
   "name": "python3"
  },
  "language_info": {
   "codemirror_mode": {
    "name": "ipython",
    "version": 3
   },
   "file_extension": ".py",
   "mimetype": "text/x-python",
   "name": "python",
   "nbconvert_exporter": "python",
   "pygments_lexer": "ipython3",
   "version": "3.9.20"
  }
 },
 "nbformat": 4,
 "nbformat_minor": 2
}
